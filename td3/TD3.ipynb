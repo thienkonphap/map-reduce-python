{
 "cells": [
  {
   "cell_type": "code",
   "execution_count": 1,
   "id": "61eb8f3b",
   "metadata": {},
   "outputs": [],
   "source": [
    "def foo(x):\n",
    "    i = 0\n",
    "    v = x*x\n",
    "    while i<=v:\n",
    "        v = v-x\n",
    "        i = i+x\n",
    "    return i*v"
   ]
  },
  {
   "cell_type": "code",
   "execution_count": 2,
   "id": "d275dccc",
   "metadata": {},
   "outputs": [
    {
     "data": {
      "text/plain": [
       "288"
      ]
     },
     "execution_count": 2,
     "metadata": {},
     "output_type": "execute_result"
    }
   ],
   "source": [
    "foo(6)"
   ]
  },
  {
   "cell_type": "code",
   "execution_count": 3,
   "id": "1cfae64b",
   "metadata": {},
   "outputs": [],
   "source": [
    "def foo2(x):\n",
    "    def check(x,i,v):\n",
    "        if i>v:\n",
    "            return i*v\n",
    "        else:\n",
    "            return check(x,i+x,v-x)\n",
    "    return check(x,0,x*x)"
   ]
  },
  {
   "cell_type": "code",
   "execution_count": 4,
   "id": "3aeedd3e",
   "metadata": {},
   "outputs": [
    {
     "data": {
      "text/plain": [
       "288"
      ]
     },
     "execution_count": 4,
     "metadata": {},
     "output_type": "execute_result"
    }
   ],
   "source": [
    "foo2(6)"
   ]
  },
  {
   "cell_type": "code",
   "execution_count": 5,
   "id": "e826d234",
   "metadata": {},
   "outputs": [],
   "source": [
    "assert foo2(2) == foo(2),\"Not Equal\"\n",
    "assert foo2(3) == foo(3),\"Not Equal\"\n",
    "assert foo2(4) == foo(4),\"Not Equal\"\n",
    "assert foo2(5) == foo(5),\"Not Equal\""
   ]
  },
  {
   "cell_type": "code",
   "execution_count": 6,
   "id": "f6b9f6da",
   "metadata": {},
   "outputs": [],
   "source": [
    "def bar(x,y):\n",
    "    r=0\n",
    "    for i in range(0, 10):\n",
    "        r = r + x\n",
    "    for j in range(r,0,-1):\n",
    "        r = r - y\n",
    "    return r"
   ]
  },
  {
   "cell_type": "code",
   "execution_count": 7,
   "id": "e5f2df63",
   "metadata": {},
   "outputs": [],
   "source": [
    "def bar2(x,y):\n",
    "    def check(x,y,r,j):\n",
    "        if j>0:\n",
    "            return check(x,y,r-y,j-1)\n",
    "        else:\n",
    "            return r\n",
    "    def check_i(x,y,r,i):\n",
    "        if i <10:\n",
    "            return check_i(x,y,r+x,i+1)\n",
    "        else:\n",
    "            return check(x,y,r,r)\n",
    "    return check_i(x,y,0,0)"
   ]
  },
  {
   "cell_type": "code",
   "execution_count": 8,
   "id": "567b4bf9",
   "metadata": {},
   "outputs": [
    {
     "data": {
      "text/plain": [
       "-560"
      ]
     },
     "execution_count": 8,
     "metadata": {},
     "output_type": "execute_result"
    }
   ],
   "source": [
    "bar2(7,9)"
   ]
  },
  {
   "cell_type": "code",
   "execution_count": 9,
   "id": "2e1f5ceb",
   "metadata": {},
   "outputs": [
    {
     "data": {
      "text/plain": [
       "-560"
      ]
     },
     "execution_count": 9,
     "metadata": {},
     "output_type": "execute_result"
    }
   ],
   "source": [
    "bar(7,9)"
   ]
  },
  {
   "cell_type": "code",
   "execution_count": 10,
   "id": "e263b7da",
   "metadata": {},
   "outputs": [],
   "source": [
    "assert bar(5,6) == bar2(5,6),\"Not Equal\"\n",
    "assert bar(3,4) == bar2(3,4),\"Not Equal\"\n",
    "assert bar(7,8) == bar2(7,8),\"Not Equal\""
   ]
  },
  {
   "cell_type": "code",
   "execution_count": 11,
   "id": "d1b6c631",
   "metadata": {},
   "outputs": [],
   "source": [
    "def car_S1(x): return x > 0\n",
    "def car_S2(x):\n",
    "    return x>=0 and x%2 ==0\n",
    "def car_S3(x):\n",
    "    return x in [0,3,7,9]\n",
    "def car_S4(x):\n",
    "    return x in [i for i in range(10,101)]\n",
    "def car_S5(x):\n",
    "    return False\n",
    "def union(car_S1,car_S2):\n",
    "    return(lambda x: car_S1(x) or car_S2(x))\n",
    "def inter(car_S1,car_S2):\n",
    "    return(lambda x: car_S1(x) and car_S2(x))\n",
    "def ajout(x,car_S1):\n",
    "    return (union(lambda i: i==x, car_S1))\n",
    "def ensemble(l):\n",
    "    return (lambda x: x in l )"
   ]
  },
  {
   "cell_type": "code",
   "execution_count": 12,
   "id": "043c00f7",
   "metadata": {},
   "outputs": [
    {
     "data": {
      "text/plain": [
       "True"
      ]
     },
     "execution_count": 12,
     "metadata": {},
     "output_type": "execute_result"
    }
   ],
   "source": [
    "car_S1(1)\n"
   ]
  },
  {
   "cell_type": "code",
   "execution_count": 13,
   "id": "45d40fb6",
   "metadata": {},
   "outputs": [
    {
     "data": {
      "text/plain": [
       "True"
      ]
     },
     "execution_count": 13,
     "metadata": {},
     "output_type": "execute_result"
    }
   ],
   "source": [
    "car_S4(10)"
   ]
  },
  {
   "cell_type": "code",
   "execution_count": 14,
   "id": "ed3b7325",
   "metadata": {},
   "outputs": [],
   "source": [
    "a = union(car_S1,car_S2)\n",
    "b = inter(car_S1,car_S2)\n",
    "c = ajout(-11,car_S1)"
   ]
  },
  {
   "cell_type": "code",
   "execution_count": 15,
   "id": "ede17a10",
   "metadata": {},
   "outputs": [
    {
     "data": {
      "text/plain": [
       "True"
      ]
     },
     "execution_count": 15,
     "metadata": {},
     "output_type": "execute_result"
    }
   ],
   "source": [
    "a(2)"
   ]
  },
  {
   "cell_type": "code",
   "execution_count": 16,
   "id": "db275be2",
   "metadata": {},
   "outputs": [
    {
     "data": {
      "text/plain": [
       "False"
      ]
     },
     "execution_count": 16,
     "metadata": {},
     "output_type": "execute_result"
    }
   ],
   "source": [
    "b(3)"
   ]
  },
  {
   "cell_type": "code",
   "execution_count": 17,
   "id": "fcca5b61",
   "metadata": {},
   "outputs": [
    {
     "data": {
      "text/plain": [
       "True"
      ]
     },
     "execution_count": 17,
     "metadata": {},
     "output_type": "execute_result"
    }
   ],
   "source": [
    "c(-11)"
   ]
  },
  {
   "cell_type": "code",
   "execution_count": 18,
   "id": "cb747f92",
   "metadata": {},
   "outputs": [
    {
     "data": {
      "text/plain": [
       "False"
      ]
     },
     "execution_count": 18,
     "metadata": {},
     "output_type": "execute_result"
    }
   ],
   "source": [
    "c(-10)"
   ]
  },
  {
   "cell_type": "code",
   "execution_count": 19,
   "id": "105aa14f",
   "metadata": {},
   "outputs": [],
   "source": [
    "d = ajout(-10,c)"
   ]
  },
  {
   "cell_type": "code",
   "execution_count": 20,
   "id": "703af017",
   "metadata": {},
   "outputs": [
    {
     "data": {
      "text/plain": [
       "True"
      ]
     },
     "execution_count": 20,
     "metadata": {},
     "output_type": "execute_result"
    }
   ],
   "source": [
    "d(-10)"
   ]
  },
  {
   "cell_type": "code",
   "execution_count": 21,
   "id": "76a5d384",
   "metadata": {},
   "outputs": [
    {
     "data": {
      "text/plain": [
       "False"
      ]
     },
     "execution_count": 21,
     "metadata": {},
     "output_type": "execute_result"
    }
   ],
   "source": [
    "car_S1(-10)"
   ]
  },
  {
   "cell_type": "code",
   "execution_count": 22,
   "id": "936abff3",
   "metadata": {},
   "outputs": [],
   "source": [
    "def fact_suite(suite,n):\n",
    "    if n <=1:\n",
    "        return 1\n",
    "    else:\n",
    "        return n*suite(suite,n-1)"
   ]
  },
  {
   "cell_type": "code",
   "execution_count": 23,
   "id": "7c266fe9",
   "metadata": {},
   "outputs": [
    {
     "data": {
      "text/plain": [
       "False"
      ]
     },
     "execution_count": 23,
     "metadata": {},
     "output_type": "execute_result"
    }
   ],
   "source": [
    "f = ensemble([1,2,3,4,5])\n",
    "f(9)"
   ]
  },
  {
   "cell_type": "code",
   "execution_count": 24,
   "id": "341042ac",
   "metadata": {},
   "outputs": [],
   "source": [
    "fact = lambda x: fact_suite(fact_suite,x)"
   ]
  },
  {
   "cell_type": "code",
   "execution_count": 25,
   "id": "1d290e37",
   "metadata": {},
   "outputs": [
    {
     "data": {
      "text/plain": [
       "24"
      ]
     },
     "execution_count": 25,
     "metadata": {},
     "output_type": "execute_result"
    }
   ],
   "source": [
    "fact(4)"
   ]
  },
  {
   "cell_type": "markdown",
   "id": "edb8d920",
   "metadata": {},
   "source": [
    "<h3>Programmer avec des itérateurs</h3>"
   ]
  },
  {
   "cell_type": "code",
   "execution_count": 27,
   "id": "6bba594d",
   "metadata": {},
   "outputs": [],
   "source": [
    "from functools import reduce\n",
    "import math\n",
    "def somme_des_carres(l):\n",
    "    return reduce(lambda a,b : a+b**2,l,0 )\n",
    "def maximum(l):\n",
    "    return reduce(lambda a,b: max(a,b),l,l[0])\n",
    "def fst(l):\n",
    "    return reduce(lambda a,b:a+[b[0]],l,[])\n",
    "def permutte(l):\n",
    "    return list(map(lambda x : 0 if x==1 else (1 if x==0 else x) ,l))\n",
    "def compte0(l):\n",
    "    return len(list(filter(lambda x: x==0,l)))\n",
    "def pgs(v,l):\n",
    "    return max(reduce(lambda ll,y: ll+[ll[-1]+1] if y==v else ll+[0],l,[0]))\n",
    "def pgs2(v,l):\n",
    "    pass"
   ]
  },
  {
   "cell_type": "code",
   "execution_count": 6,
   "id": "9d60a1a8",
   "metadata": {},
   "outputs": [],
   "source": [
    "from functools import reduce\n",
    "import math\n",
    "def somme_des_carres(l):\n",
    "    return reduce(lambda a,b : a+b**2,l,0 )\n",
    "def maximum(l):\n",
    "    return reduce(lambda a,b: max(a,b),l,l[0])\n",
    "def fst(l):\n",
    "    return reduce(lambda a,b:a+[b[0]],l,[])\n",
    "def permutte(l):\n",
    "    return list(map(lambda x : 0 if x==1 else (1 if x==0 else x) ,l))\n",
    "def compte0(l):\n",
    "    return len(list(filter(lambda x: x==0,l)))\n",
    "def pgs(v,l):\n",
    "    return max(reduce(lambda ll,y: ll+[ll[-1]+1] if y==v else ll+[0],l,[0]))\n",
    "def pgs2(v,l):\n",
    "    return reduce(lambda ll, y: ll+[(ll[-1][0]+1,ll[-1][0]+1)] if y==v else ll+[(0,ll[-1][0])],l,[(0,0)])"
   ]
  },
  {
   "cell_type": "code",
   "execution_count": 48,
   "id": "b5db35aa",
   "metadata": {},
   "outputs": [
    {
     "data": {
      "text/plain": [
       "3"
      ]
     },
     "execution_count": 48,
     "metadata": {},
     "output_type": "execute_result"
    }
   ],
   "source": [
    "pgs(1,[1,1,2,3,1,1,1]) #[1,1,1]"
   ]
  },
  {
   "cell_type": "code",
   "execution_count": 2,
   "id": "d5a2fdff",
   "metadata": {},
   "outputs": [
    {
     "data": {
      "text/plain": [
       "6"
      ]
     },
     "execution_count": 2,
     "metadata": {},
     "output_type": "execute_result"
    }
   ],
   "source": [
    "pgs2(2,[1,1,2,3,1,1,1,1,1,2,2,2,2,2,2]) #[1,1,1]"
   ]
  },
  {
   "cell_type": "code",
   "execution_count": 31,
   "id": "d5e554f4",
   "metadata": {},
   "outputs": [
    {
     "data": {
      "text/plain": [
       "14"
      ]
     },
     "execution_count": 31,
     "metadata": {},
     "output_type": "execute_result"
    }
   ],
   "source": [
    "somme_des_carres([1,2,3])"
   ]
  },
  {
   "cell_type": "code",
   "execution_count": 32,
   "id": "aa7a4e70",
   "metadata": {},
   "outputs": [
    {
     "data": {
      "text/plain": [
       "14"
      ]
     },
     "execution_count": 32,
     "metadata": {},
     "output_type": "execute_result"
    }
   ],
   "source": [
    "2+3+4+5"
   ]
  },
  {
   "cell_type": "code",
   "execution_count": 33,
   "id": "742435d4",
   "metadata": {},
   "outputs": [
    {
     "data": {
      "text/plain": [
       "21"
      ]
     },
     "execution_count": 33,
     "metadata": {},
     "output_type": "execute_result"
    }
   ],
   "source": [
    "maximum([11,2,3,4,5,21])"
   ]
  },
  {
   "cell_type": "code",
   "execution_count": 34,
   "id": "9d372d92",
   "metadata": {},
   "outputs": [
    {
     "data": {
      "text/plain": [
       "[1, 3, 5]"
      ]
     },
     "execution_count": 34,
     "metadata": {},
     "output_type": "execute_result"
    }
   ],
   "source": [
    "fst([(1,2),(3,4),(5,6)])"
   ]
  },
  {
   "cell_type": "code",
   "execution_count": 7,
   "id": "650bb2e5",
   "metadata": {},
   "outputs": [
    {
     "data": {
      "text/plain": [
       "[(0, 0), (1, 1), (2, 2), (0, 2), (0, 0)]"
      ]
     },
     "execution_count": 7,
     "metadata": {},
     "output_type": "execute_result"
    }
   ],
   "source": [
    "pgs2(1,[1,1,2,3])\n"
   ]
  },
  {
   "cell_type": "code",
   "execution_count": 36,
   "id": "ba9c2877",
   "metadata": {},
   "outputs": [
    {
     "data": {
      "text/plain": [
       "4"
      ]
     },
     "execution_count": 36,
     "metadata": {},
     "output_type": "execute_result"
    }
   ],
   "source": [
    "compte0([0,0,0,1,1,1,0])"
   ]
  },
  {
   "cell_type": "markdown",
   "id": "aa2fafdc",
   "metadata": {},
   "source": [
    "[1,1,1,3,8,9,1,1] pgs(1,l) => return [1,1,1]"
   ]
  },
  {
   "cell_type": "code",
   "execution_count": null,
   "id": "0d96097f",
   "metadata": {},
   "outputs": [],
   "source": []
  },
  {
   "cell_type": "code",
   "execution_count": null,
   "id": "43f91121",
   "metadata": {},
   "outputs": [],
   "source": []
  }
 ],
 "metadata": {
  "kernelspec": {
   "display_name": "Python 3 (ipykernel)",
   "language": "python",
   "name": "python3"
  },
  "language_info": {
   "codemirror_mode": {
    "name": "ipython",
    "version": 3
   },
   "file_extension": ".py",
   "mimetype": "text/x-python",
   "name": "python",
   "nbconvert_exporter": "python",
   "pygments_lexer": "ipython3",
   "version": "3.8.2"
  }
 },
 "nbformat": 4,
 "nbformat_minor": 5
}
