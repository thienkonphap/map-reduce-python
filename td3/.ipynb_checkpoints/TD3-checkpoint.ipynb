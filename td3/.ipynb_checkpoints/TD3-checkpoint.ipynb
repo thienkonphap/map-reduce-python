{
 "cells": [
  {
   "cell_type": "code",
   "execution_count": 167,
   "id": "61eb8f3b",
   "metadata": {},
   "outputs": [],
   "source": [
    "def foo(x):\n",
    "    i = 0\n",
    "    v = x*x\n",
    "    while i<=v:\n",
    "        v = v-x\n",
    "        i = i+x\n",
    "    return i*v"
   ]
  },
  {
   "cell_type": "code",
   "execution_count": 168,
   "id": "d275dccc",
   "metadata": {},
   "outputs": [
    {
     "data": {
      "text/plain": [
       "288"
      ]
     },
     "execution_count": 168,
     "metadata": {},
     "output_type": "execute_result"
    }
   ],
   "source": [
    "foo(6)"
   ]
  },
  {
   "cell_type": "code",
   "execution_count": 177,
   "id": "1cfae64b",
   "metadata": {},
   "outputs": [],
   "source": [
    "def foo2(x):\n",
    "    def check(x,i,v):\n",
    "        if i>v:\n",
    "            return i*v\n",
    "        else:\n",
    "            return check(x,i+x,v-x)\n",
    "    return check(x,0,x*x)"
   ]
  },
  {
   "cell_type": "code",
   "execution_count": 178,
   "id": "3aeedd3e",
   "metadata": {},
   "outputs": [
    {
     "data": {
      "text/plain": [
       "288"
      ]
     },
     "execution_count": 178,
     "metadata": {},
     "output_type": "execute_result"
    }
   ],
   "source": [
    "foo2(6)"
   ]
  },
  {
   "cell_type": "code",
   "execution_count": 179,
   "id": "e826d234",
   "metadata": {},
   "outputs": [],
   "source": [
    "assert foo2(2) == foo(2),\"Not Equal\"\n",
    "assert foo2(3) == foo(3),\"Not Equal\"\n",
    "assert foo2(4) == foo(4),\"Not Equal\"\n",
    "assert foo2(5) == foo(5),\"Not Equal\""
   ]
  },
  {
   "cell_type": "code",
   "execution_count": 180,
   "id": "f6b9f6da",
   "metadata": {},
   "outputs": [],
   "source": [
    "def bar(x,y):\n",
    "    r=0\n",
    "    for i in range(0, 10):\n",
    "        r = r + x\n",
    "    for j in range(r,0,-1):\n",
    "        r = r - y\n",
    "    return r"
   ]
  },
  {
   "cell_type": "code",
   "execution_count": 194,
   "id": "1efb0f9a",
   "metadata": {},
   "outputs": [],
   "source": [
    "def bar2(x,y):\n",
    "    def check(x,y,r,j):\n",
    "        if j>0:\n",
    "            return check(x,y,r-y,j-1)\n",
    "        else:\n",
    "            return r\n",
    "    def check_i(x,y,r,i):\n",
    "        if i <10:\n",
    "            return check_i(x,y,r+x,i+1)\n",
    "        else:\n",
    "            return check(x,y,r,r)\n",
    "    return check_i(x,y,0,0)"
   ]
  },
  {
   "cell_type": "code",
   "execution_count": 195,
   "id": "4dc9fb37",
   "metadata": {},
   "outputs": [
    {
     "data": {
      "text/plain": [
       "-560"
      ]
     },
     "execution_count": 195,
     "metadata": {},
     "output_type": "execute_result"
    }
   ],
   "source": [
    "bar2(7,9)"
   ]
  },
  {
   "cell_type": "code",
   "execution_count": 196,
   "id": "b8a788cd",
   "metadata": {},
   "outputs": [
    {
     "data": {
      "text/plain": [
       "-560"
      ]
     },
     "execution_count": 196,
     "metadata": {},
     "output_type": "execute_result"
    }
   ],
   "source": [
    "bar(7,9)"
   ]
  },
  {
   "cell_type": "code",
   "execution_count": 197,
   "id": "c04352a6",
   "metadata": {},
   "outputs": [],
   "source": [
    "assert bar(5,6) == bar2(5,6),\"Not Equal\"\n",
    "assert bar(3,4) == bar2(3,4),\"Not Equal\"\n",
    "assert bar(7,8) == bar2(7,8),\"Not Equal\""
   ]
  },
  {
   "cell_type": "code",
   "execution_count": 224,
   "id": "7ef433be",
   "metadata": {},
   "outputs": [],
   "source": [
    "def car_S1(x): return x > 0\n",
    "def car_S2(x):\n",
    "    return x>=0 and x%2 ==0\n",
    "def car_S3(x):\n",
    "    return x in [0,3,7,9]\n",
    "def car_S4(x):\n",
    "    return x in [i for i in range(10,101)]\n",
    "def car_S5(x):\n",
    "    return False\n",
    "def union(car_S1,car_S2):\n",
    "    return(lambda x: car_S1(x) or car_S2(x))\n",
    "def inter(car_S1,car_S2):\n",
    "    return(lambda x: car_S1(x) and car_S2(x))\n",
    "def ajout(x,car_S1):\n",
    "    return (union(lambda i: True if i==x else False, car_S1))\n",
    "def ensemble(l):\n",
    "    return (lambda x: True if x in l else False)\n",
    "def ff(suite,n):\n",
    "    if n <=1:\n",
    "        return 1\n",
    "    else:\n",
    "        return n*suite(suite,n-1)"
   ]
  },
  {
   "cell_type": "code",
   "execution_count": 199,
   "id": "767bfc80",
   "metadata": {},
   "outputs": [
    {
     "data": {
      "text/plain": [
       "True"
      ]
     },
     "execution_count": 199,
     "metadata": {},
     "output_type": "execute_result"
    }
   ],
   "source": [
    "car_S1(1)\n"
   ]
  },
  {
   "cell_type": "code",
   "execution_count": 200,
   "id": "f86e5090",
   "metadata": {},
   "outputs": [
    {
     "data": {
      "text/plain": [
       "True"
      ]
     },
     "execution_count": 200,
     "metadata": {},
     "output_type": "execute_result"
    }
   ],
   "source": [
    "car_S4(10)"
   ]
  },
  {
   "cell_type": "code",
   "execution_count": 201,
   "id": "99871b90",
   "metadata": {},
   "outputs": [],
   "source": [
    "a = union(car_S1,car_S2)\n",
    "b = inter(car_S1,car_S2)\n",
    "c = ajout(-11,car_S1)"
   ]
  },
  {
   "cell_type": "code",
   "execution_count": 202,
   "id": "ca041dca",
   "metadata": {},
   "outputs": [
    {
     "data": {
      "text/plain": [
       "True"
      ]
     },
     "execution_count": 202,
     "metadata": {},
     "output_type": "execute_result"
    }
   ],
   "source": [
    "a(2)"
   ]
  },
  {
   "cell_type": "code",
   "execution_count": 203,
   "id": "d93655b4",
   "metadata": {},
   "outputs": [
    {
     "data": {
      "text/plain": [
       "False"
      ]
     },
     "execution_count": 203,
     "metadata": {},
     "output_type": "execute_result"
    }
   ],
   "source": [
    "b(3)"
   ]
  },
  {
   "cell_type": "code",
   "execution_count": 204,
   "id": "9eb560ba",
   "metadata": {},
   "outputs": [
    {
     "data": {
      "text/plain": [
       "True"
      ]
     },
     "execution_count": 204,
     "metadata": {},
     "output_type": "execute_result"
    }
   ],
   "source": [
    "c(-11)"
   ]
  },
  {
   "cell_type": "code",
   "execution_count": 205,
   "id": "f1ea813e",
   "metadata": {},
   "outputs": [
    {
     "data": {
      "text/plain": [
       "False"
      ]
     },
     "execution_count": 205,
     "metadata": {},
     "output_type": "execute_result"
    }
   ],
   "source": [
    "c(-10)"
   ]
  },
  {
   "cell_type": "code",
   "execution_count": 206,
   "id": "b8f78485",
   "metadata": {},
   "outputs": [],
   "source": [
    "d = ajout(-10,c)"
   ]
  },
  {
   "cell_type": "code",
   "execution_count": 207,
   "id": "228f3c1c",
   "metadata": {},
   "outputs": [
    {
     "data": {
      "text/plain": [
       "True"
      ]
     },
     "execution_count": 207,
     "metadata": {},
     "output_type": "execute_result"
    }
   ],
   "source": [
    "d(-10)"
   ]
  },
  {
   "cell_type": "code",
   "execution_count": 208,
   "id": "b27333e7",
   "metadata": {},
   "outputs": [
    {
     "data": {
      "text/plain": [
       "False"
      ]
     },
     "execution_count": 208,
     "metadata": {},
     "output_type": "execute_result"
    }
   ],
   "source": [
    "car_S1(-10)"
   ]
  },
  {
   "cell_type": "code",
   "execution_count": 209,
   "id": "0f8b71c0",
   "metadata": {},
   "outputs": [
    {
     "data": {
      "text/plain": [
       "False"
      ]
     },
     "execution_count": 209,
     "metadata": {},
     "output_type": "execute_result"
    }
   ],
   "source": [
    "f = ensemble([1,2,3,4,5])\n",
    "f(9)"
   ]
  },
  {
   "cell_type": "code",
   "execution_count": 234,
   "id": "55006872",
   "metadata": {},
   "outputs": [],
   "source": [
    "f = lambda x: fact(fact,x)"
   ]
  },
  {
   "cell_type": "code",
   "execution_count": 236,
   "id": "60e2bdb4",
   "metadata": {},
   "outputs": [
    {
     "data": {
      "text/plain": [
       "24"
      ]
     },
     "execution_count": 236,
     "metadata": {},
     "output_type": "execute_result"
    }
   ],
   "source": [
    "f(4)"
   ]
  },
  {
   "cell_type": "code",
   "execution_count": null,
   "id": "eeb1d33b",
   "metadata": {},
   "outputs": [],
   "source": []
  },
  {
   "cell_type": "code",
   "execution_count": 232,
   "id": "59f79ad2",
   "metadata": {},
   "outputs": [],
   "source": []
  },
  {
   "cell_type": "code",
   "execution_count": null,
   "id": "16821a62",
   "metadata": {},
   "outputs": [],
   "source": [
    "\n"
   ]
  },
  {
   "cell_type": "code",
   "execution_count": null,
   "id": "553adfa0",
   "metadata": {},
   "outputs": [],
   "source": []
  }
 ],
 "metadata": {
  "kernelspec": {
   "display_name": "Python 3 (ipykernel)",
   "language": "python",
   "name": "python3"
  },
  "language_info": {
   "codemirror_mode": {
    "name": "ipython",
    "version": 3
   },
   "file_extension": ".py",
   "mimetype": "text/x-python",
   "name": "python",
   "nbconvert_exporter": "python",
   "pygments_lexer": "ipython3",
   "version": "3.8.2"
  }
 },
 "nbformat": 4,
 "nbformat_minor": 5
}
