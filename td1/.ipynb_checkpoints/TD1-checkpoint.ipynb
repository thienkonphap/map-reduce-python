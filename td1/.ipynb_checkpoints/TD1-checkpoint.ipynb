{
 "cells": [
  {
   "cell_type": "code",
   "execution_count": 5,
   "id": "e0b3f124",
   "metadata": {},
   "outputs": [],
   "source": [
    "def ex1():\n",
    "    a = int(input(\"Enter a : \"))\n",
    "    b = int(input(\"Enter b : \"))\n",
    "    c = int(input(\"Enter c : \"))\n",
    "    d = int(input(\"Enter d : \"))\n",
    "    x = (d - b)/(a-c)\n",
    "    y = a*x+b\n",
    "    return x, y\n"
   ]
  },
  {
   "cell_type": "code",
   "execution_count": 5,
   "id": "700cba2f",
   "metadata": {},
   "outputs": [
    {
     "name": "stdout",
     "output_type": "stream",
     "text": [
      "Get a : 1\n",
      "Get b : 2\n",
      "Get c : 3\n",
      "Get d : 5\n"
     ]
    },
    {
     "data": {
      "text/plain": [
       "(-1.5, 0.5)"
      ]
     },
     "execution_count": 5,
     "metadata": {},
     "output_type": "execute_result"
    }
   ],
   "source": [
    "ex1()"
   ]
  },
  {
   "cell_type": "code",
   "execution_count": 6,
   "id": "a264734d",
   "metadata": {},
   "outputs": [],
   "source": [
    "def ex2():\n",
    "    n = int(input(\"Enter n : \"))\n",
    "    return 2**n"
   ]
  },
  {
   "cell_type": "code",
   "execution_count": 7,
   "id": "2400878b",
   "metadata": {},
   "outputs": [
    {
     "name": "stdout",
     "output_type": "stream",
     "text": [
      "Enter n : 6\n"
     ]
    },
    {
     "data": {
      "text/plain": [
       "64"
      ]
     },
     "execution_count": 7,
     "metadata": {},
     "output_type": "execute_result"
    }
   ],
   "source": [
    "ex2()"
   ]
  },
  {
   "cell_type": "code",
   "execution_count": 7,
   "id": "0d07b690",
   "metadata": {},
   "outputs": [],
   "source": [
    "def ex3():\n",
    "    n = int(input(\"Enter n : \"))\n",
    "    res = 0\n",
    "    for i in range (1,n+1):\n",
    "        res = res +i\n",
    "    assert res == n*(n+1)/2\n",
    "    return res"
   ]
  },
  {
   "cell_type": "code",
   "execution_count": 15,
   "id": "2b4e95c7",
   "metadata": {},
   "outputs": [
    {
     "name": "stdout",
     "output_type": "stream",
     "text": [
      "Enter n : 5\n"
     ]
    },
    {
     "data": {
      "text/plain": [
       "15"
      ]
     },
     "execution_count": 15,
     "metadata": {},
     "output_type": "execute_result"
    }
   ],
   "source": [
    "ex3()"
   ]
  },
  {
   "cell_type": "code",
   "execution_count": 8,
   "id": "b3750d8d",
   "metadata": {},
   "outputs": [],
   "source": [
    "def ex4():\n",
    "    depot = int(input(\"Dépot : \"))\n",
    "    taux = int(input(\"Taux: \"))\n",
    "    anne = int(input(\"Année: \"))\n",
    "    total = depot*(1+taux/100)**anne\n",
    "    print(\"Montant total apres \",anne ,\" anées: \", total)\n",
    "    res = 0\n",
    "    for i in range (1,anne+1):\n",
    "        interet = depot*(1+taux/100)**i - depot*(1+taux/100)**(i-1)\n",
    "        print(\"Interet \", i, \"eme anné \",interet)\n",
    "        res+=interet\n",
    "    print(res)"
   ]
  },
  {
   "cell_type": "code",
   "execution_count": null,
   "id": "923808f8",
   "metadata": {},
   "outputs": [],
   "source": [
    "ex4()"
   ]
  },
  {
   "cell_type": "code",
   "execution_count": 10,
   "id": "1b61171c",
   "metadata": {},
   "outputs": [],
   "source": [
    "import turtle\n",
    "def ex5(): \n",
    "    n = int(input(\"N = \"))\n",
    "    turtle.speed(1)\n",
    "    tur = turtle.Turtle()\n",
    "    tur.fillcolor('cyan')\n",
    "\n",
    "    tur.forward(100)\n",
    "    for i in range (n):\n",
    "        tur.left(90)\n",
    "        tur.forward(40)\n",
    "        tur.right(90)\n",
    "        tur.forward(40)\n",
    "    turtle.done()"
   ]
  },
  {
   "cell_type": "code",
   "execution_count": null,
   "id": "098d3f70",
   "metadata": {},
   "outputs": [],
   "source": []
  },
  {
   "cell_type": "code",
   "execution_count": 12,
   "id": "27b19508",
   "metadata": {},
   "outputs": [],
   "source": [
    "import turtle\n",
    "def ex6():\n",
    "    n = int(input(\"N = \"))\n",
    "    m = int(input(\"M = \"))\n",
    "    tur = turtle.Turtle()\n",
    "    tur.fillcolor('cyan')\n",
    "    for i in range (n+1):\n",
    "        tur.forward(15*m)\n",
    "        tur.penup()\n",
    "        tur.backward(15*m)\n",
    "        tur.right(90)\n",
    "        tur.forward(15)\n",
    "        tur.left(90)\n",
    "        tur.pendown()\n",
    "    tur.penup()\n",
    "    tur.setpos(0,0)\n",
    "    tur.right(90)\n",
    "    tur.pendown()\n",
    "    for i in range (m+1):\n",
    "        tur.forward(15*n)\n",
    "        tur.penup()\n",
    "        tur.backward(15*n)\n",
    "        tur.left(90)\n",
    "        tur.forward(15)\n",
    "        tur.right(90)\n",
    "        tur.pendown()\n",
    "    turtle.done()"
   ]
  },
  {
   "cell_type": "markdown",
   "id": "e19a0a0b",
   "metadata": {},
   "source": [
    "<h4>Exerceise 7</h4>"
   ]
  },
  {
   "cell_type": "code",
   "execution_count": 2,
   "id": "26107dac",
   "metadata": {},
   "outputs": [],
   "source": [
    "def fibonacci(n):\n",
    "    if n <=1 : \n",
    "        return 1\n",
    "    else:\n",
    "        return fibonacci(n-1) + fibonacci(n-2)"
   ]
  },
  {
   "cell_type": "code",
   "execution_count": 4,
   "id": "74b04795",
   "metadata": {},
   "outputs": [
    {
     "data": {
      "text/plain": [
       "21"
      ]
     },
     "execution_count": 4,
     "metadata": {},
     "output_type": "execute_result"
    }
   ],
   "source": [
    "fibonacci(7)"
   ]
  },
  {
   "cell_type": "markdown",
   "id": "7efb84d0",
   "metadata": {},
   "source": [
    "<h4>Exerceise 8</h4>\n"
   ]
  },
  {
   "cell_type": "code",
   "execution_count": 16,
   "id": "bcd69cd9",
   "metadata": {},
   "outputs": [
    {
     "name": "stdout",
     "output_type": "stream",
     "text": [
      "[1, 1, 2, 3, 5, 8, 13, 21, 34, 55, 89]\n"
     ]
    }
   ],
   "source": [
    "import turtle\n",
    "def fibonacci(n):\n",
    "    if n <=1 : \n",
    "        return 1\n",
    "    else:\n",
    "        return fibonacci(n-1) + fibonacci(n-2)\n",
    "fibo = [fibonacci(i) for i in range(11)]\n",
    "print(fibo)\n",
    "tur = turtle.Turtle()\n",
    "tur.fillcolor('cyan')\n",
    "for i in range(6):\n",
    "    tur.circle(fibo[i]*8,90)\n",
    "tur.getscreen()._root.mainloop()  # <-- run the Tkinter main loop"
   ]
  },
  {
   "cell_type": "markdown",
   "id": "6b7d4851",
   "metadata": {},
   "source": [
    "<h4>Exerceise 9</h4>"
   ]
  },
  {
   "cell_type": "code",
   "execution_count": 9,
   "id": "25b0d8c9",
   "metadata": {},
   "outputs": [],
   "source": [
    "def diviseurs(n):\n",
    "    return [i for i in range (1,n+1) if 10%i==0]"
   ]
  },
  {
   "cell_type": "code",
   "execution_count": 10,
   "id": "de782f2a",
   "metadata": {},
   "outputs": [
    {
     "data": {
      "text/plain": [
       "[1, 2, 5, 10]"
      ]
     },
     "execution_count": 10,
     "metadata": {},
     "output_type": "execute_result"
    }
   ],
   "source": [
    "diviseurs(10)"
   ]
  },
  {
   "cell_type": "markdown",
   "id": "af123a31",
   "metadata": {},
   "source": [
    "<h4>Exerceise 11</h4>"
   ]
  },
  {
   "cell_type": "code",
   "execution_count": 11,
   "id": "3ab04224",
   "metadata": {},
   "outputs": [],
   "source": [
    "def equation_degre(a,b,c):\n",
    "    delta = b*b-4*a*c\n",
    "    if delta > 0:\n",
    "        racineDeDelta=math.sqrt(delta)\n",
    "        retour = [(-b-racineDeDelta)/(2*a),(-b+racineDeDelta)/(2*a)]\n",
    "    elif delta < 0:\n",
    "        retour = []  #liste vide\n",
    "    else:\n",
    "        retour = [-b/(2*a)] #liste d'un seul élément\n",
    "    return retour"
   ]
  },
  {
   "cell_type": "markdown",
   "id": "2681ca58",
   "metadata": {},
   "source": [
    "<h4>Exerceise 12</h4>"
   ]
  },
  {
   "cell_type": "code",
   "execution_count": 12,
   "id": "cc5e6f0d",
   "metadata": {},
   "outputs": [],
   "source": [
    "def occurences(v,t):\n",
    "    return t.count(v)"
   ]
  },
  {
   "cell_type": "code",
   "execution_count": 15,
   "id": "8fabf5e7",
   "metadata": {},
   "outputs": [
    {
     "data": {
      "text/plain": [
       "3"
      ]
     },
     "execution_count": 15,
     "metadata": {},
     "output_type": "execute_result"
    }
   ],
   "source": [
    "t = [1,1,1,2,2,3,3,3]\n",
    "occurences(3,t)"
   ]
  },
  {
   "cell_type": "markdown",
   "id": "9c8e2b1f",
   "metadata": {},
   "source": [
    "<h4>Exercise 10</h4>"
   ]
  },
  {
   "cell_type": "code",
   "execution_count": 6,
   "id": "bea662c8",
   "metadata": {},
   "outputs": [],
   "source": [
    "def ex10():\n",
    "    longueur, largeur = 250,300\n",
    "    tur = turtle.Turtle()\n",
    "    scr = turtle.Screen()\n",
    "    tur.fillcolor('cyan')\n",
    "    for i in range (4):\n",
    "        if i%2==0:\n",
    "            tur.forward(longueur)\n",
    "        else:\n",
    "            tur.forward(largeur)\n",
    "        tur.left(90)\n",
    "    tur.penup()\n",
    "    tur.setpos(17,30)\n",
    "    tur.pendown()\n",
    "    vector = [1,1]\n",
    "    while True:\n",
    "        x,y= tur.pos()\n",
    "        if x>= longueur or x<0:\n",
    "            vector[0]=-vector[0]\n",
    "        if y >= largeur or y<0:\n",
    "            vector[1]=-vector[1]\n",
    "        tur.setpos(x+vector[0],y+vector[1])\n",
    "    turtle.done()"
   ]
  },
  {
   "cell_type": "markdown",
   "id": "d645a78f",
   "metadata": {},
   "source": [
    "<h4>Exerceise 13</h4>"
   ]
  },
  {
   "cell_type": "code",
   "execution_count": 21,
   "id": "74957ad1",
   "metadata": {},
   "outputs": [
    {
     "name": "stdout",
     "output_type": "stream",
     "text": [
      "{3: 106, 8: 90, 6: 97, 5: 87, 7: 111, 9: 114, 4: 110, 1: 93, 2: 94, 10: 88}\n"
     ]
    }
   ],
   "source": [
    "from random import randint\n",
    "occurencies = {}\n",
    "for i in range(1000):\n",
    "    value = randint(1, 10)\n",
    "    if value in occurencies.keys():\n",
    "        occurencies[value]+=1\n",
    "    else:\n",
    "        occurencies[value] = 0\n",
    "print(occurencies)"
   ]
  },
  {
   "cell_type": "markdown",
   "id": "3d998c65",
   "metadata": {},
   "source": [
    "<h4>Exerceise 14</h4>"
   ]
  },
  {
   "cell_type": "code",
   "execution_count": 22,
   "id": "26519425",
   "metadata": {},
   "outputs": [],
   "source": [
    "def melange(tab):\n",
    "    for i in range (len(tab)):\n",
    "        index = randint(0,i)\n",
    "        tmp = tab[i]\n",
    "        tab[i] = tab[index]\n",
    "        tab[index] = tmp"
   ]
  },
  {
   "cell_type": "code",
   "execution_count": 24,
   "id": "1bebb1cc",
   "metadata": {},
   "outputs": [
    {
     "data": {
      "text/plain": [
       "[5, 1, 2, 7, 8, 6, 4, 3]"
      ]
     },
     "execution_count": 24,
     "metadata": {},
     "output_type": "execute_result"
    }
   ],
   "source": [
    "tab = [1,2,3,4,5,6,7,8]\n",
    "melange(tab)\n",
    "tab"
   ]
  },
  {
   "cell_type": "markdown",
   "id": "d4e139ae",
   "metadata": {},
   "source": [
    "<h4>Exerceise 15</h4>"
   ]
  },
  {
   "cell_type": "code",
   "execution_count": 27,
   "id": "afb4d054",
   "metadata": {},
   "outputs": [],
   "source": [
    "def hamming(tab1, tab2):\n",
    "    return len([i for i in range (len(tab1)) if tab1[i] != tab2[i]])"
   ]
  },
  {
   "cell_type": "code",
   "execution_count": 28,
   "id": "f1bb779c",
   "metadata": {},
   "outputs": [
    {
     "data": {
      "text/plain": [
       "2"
      ]
     },
     "execution_count": 28,
     "metadata": {},
     "output_type": "execute_result"
    }
   ],
   "source": [
    "tab1 = [1,2,3,4,5,6,7,8]\n",
    "tab2 = [1,3,4,4,5,6,7,8]\n",
    "hamming(tab1,tab2)"
   ]
  },
  {
   "cell_type": "markdown",
   "id": "617b0109",
   "metadata": {},
   "source": [
    "<h4>Exerceise 16</h4>\n"
   ]
  },
  {
   "cell_type": "code",
   "execution_count": 29,
   "id": "8323a95f",
   "metadata": {},
   "outputs": [],
   "source": [
    "def countDigit(nb):\n",
    "    return len(str(nb))"
   ]
  },
  {
   "cell_type": "code",
   "execution_count": 34,
   "id": "b3d11097",
   "metadata": {},
   "outputs": [
    {
     "data": {
      "text/plain": [
       "2"
      ]
     },
     "execution_count": 34,
     "metadata": {},
     "output_type": "execute_result"
    }
   ],
   "source": [
    "countDigit(16)"
   ]
  },
  {
   "cell_type": "markdown",
   "id": "d2108d70",
   "metadata": {},
   "source": [
    "<h4>Exerceise 17</h4>\n"
   ]
  },
  {
   "cell_type": "code",
   "execution_count": 58,
   "id": "00c5864c",
   "metadata": {},
   "outputs": [],
   "source": [
    "def sous_mot(a,b,tab):\n",
    "    try:\n",
    "        if tab.index(a)<tab.index(b,tab.index(a),len(tab)):\n",
    "            return True\n",
    "    except ValueError:\n",
    "        return False\n"
   ]
  },
  {
   "cell_type": "code",
   "execution_count": 64,
   "id": "d81e1349",
   "metadata": {},
   "outputs": [
    {
     "data": {
      "text/plain": [
       "True"
      ]
     },
     "execution_count": 64,
     "metadata": {},
     "output_type": "execute_result"
    }
   ],
   "source": [
    "check = [1,2,1,4,5,6,7]\n",
    "sous_mot(2,1,check)\n"
   ]
  },
  {
   "cell_type": "markdown",
   "id": "45de1f65",
   "metadata": {},
   "source": [
    "<h4>Exerceise 18</h4>\n"
   ]
  },
  {
   "cell_type": "code",
   "execution_count": 93,
   "id": "c5caf6ca",
   "metadata": {},
   "outputs": [],
   "source": [
    "import numpy as np\n",
    "def pgs(e,tab): #\n",
    "    array = np.array(tab)\n",
    "    indexOf = np.where(array ==e)[0]\n",
    "    if indexOf.size ==0:\n",
    "        return 0\n",
    "    maxCount = 1\n",
    "    for i in indexOf:\n",
    "        startIndex = i\n",
    "        count = 1\n",
    "        while(tab[i] == tab[startIndex]):\n",
    "            startIndex+=1\n",
    "            count+=1\n",
    "        maxCount = max(maxCount,count)\n",
    "    return maxCount"
   ]
  },
  {
   "cell_type": "code",
   "execution_count": 121,
   "id": "2be962ea",
   "metadata": {},
   "outputs": [],
   "source": [
    "def pgs2(e,tab):\n",
    "    maxCount= 0\n",
    "    try:\n",
    "        exist = tab.index(e) # if not in list, return 0\n",
    "    except ValueError:\n",
    "        return 0\n",
    "    for i in range (len(tab)):\n",
    "        if tab[i] ==e:\n",
    "            j=i\n",
    "            count=0\n",
    "            while j<=len(tab)-1 and (tab[i]==tab[j]):\n",
    "                j+=1\n",
    "                count+=1\n",
    "            maxCount=max(maxCount,count)\n",
    "    return maxCount"
   ]
  },
  {
   "cell_type": "code",
   "execution_count": 124,
   "id": "8124c64d",
   "metadata": {},
   "outputs": [
    {
     "data": {
      "text/plain": [
       "4"
      ]
     },
     "execution_count": 124,
     "metadata": {},
     "output_type": "execute_result"
    }
   ],
   "source": [
    "check = [1,1,1,4,5,6,7,1,1,1,1]\n",
    "pgs2(1,check)"
   ]
  },
  {
   "cell_type": "markdown",
   "id": "bc08c0fa",
   "metadata": {},
   "source": [
    "<h4>Exercise 19 </h4>"
   ]
  },
  {
   "cell_type": "code",
   "execution_count": 130,
   "id": "fffcd616",
   "metadata": {},
   "outputs": [],
   "source": [
    "def pgpc(tab1, tab2):\n",
    "    count = 0\n",
    "    for (i,j) in zip(tab1,tab2):\n",
    "        if i !=j:\n",
    "            break\n",
    "        else:\n",
    "            count+=1\n",
    "    return count"
   ]
  },
  {
   "cell_type": "code",
   "execution_count": 133,
   "id": "49173d01",
   "metadata": {},
   "outputs": [
    {
     "name": "stdout",
     "output_type": "stream",
     "text": [
      "3\n"
     ]
    }
   ],
   "source": [
    "tab1 = [1,2,3,4,5]\n",
    "tab2 = [1,2,3,7,5]\n",
    "print(pgpc(tab1,tab2))"
   ]
  },
  {
   "cell_type": "markdown",
   "id": "d688eee2",
   "metadata": {},
   "source": [
    "<h4>Exercise 20</h4>\n"
   ]
  },
  {
   "cell_type": "code",
   "execution_count": 140,
   "id": "76e1b7cb",
   "metadata": {},
   "outputs": [
    {
     "name": "stdout",
     "output_type": "stream",
     "text": [
      "Table de 1:\n",
      "\t 1 x 1 = 1\n",
      "\t 1 x 2 = 2\n",
      "\t 1 x 3 = 3\n",
      "\t 1 x 4 = 4\n",
      "\t 1 x 5 = 5\n",
      "\t 1 x 6 = 6\n",
      "\t 1 x 7 = 7\n",
      "\t 1 x 8 = 8\n",
      "\t 1 x 9 = 9\n",
      "Table de 2:\n",
      "\t 2 x 1 = 2\n",
      "\t 2 x 2 = 4\n",
      "\t 2 x 3 = 6\n",
      "\t 2 x 4 = 8\n",
      "\t 2 x 5 = 10\n",
      "\t 2 x 6 = 12\n",
      "\t 2 x 7 = 14\n",
      "\t 2 x 8 = 16\n",
      "\t 2 x 9 = 18\n",
      "Table de 3:\n",
      "\t 3 x 1 = 3\n",
      "\t 3 x 2 = 6\n",
      "\t 3 x 3 = 9\n",
      "\t 3 x 4 = 12\n",
      "\t 3 x 5 = 15\n",
      "\t 3 x 6 = 18\n",
      "\t 3 x 7 = 21\n",
      "\t 3 x 8 = 24\n",
      "\t 3 x 9 = 27\n"
     ]
    }
   ],
   "source": [
    "def tableauMulti():\n",
    "    for i in range (1,4):\n",
    "        print(\"Table de {0}:\".format(i))\n",
    "        for j in range (1,10):\n",
    "            print(\"\\t {0} x {1} = {2}\".format(i,j,i*j))\n",
    "tableauMulti()"
   ]
  },
  {
   "cell_type": "markdown",
   "id": "24572086",
   "metadata": {},
   "source": [
    "<h4>Exercise 21</h4>"
   ]
  },
  {
   "cell_type": "code",
   "execution_count": 1,
   "id": "d1daa0c3",
   "metadata": {},
   "outputs": [],
   "source": [
    "def ex21(tab):\n",
    "    res= min(tab[0])\n",
    "    for i in range (len(tab)):\n",
    "        minimumLigne = min(tab[i])\n",
    "        res= max(res,minimumLigne)\n",
    "    return res"
   ]
  },
  {
   "cell_type": "code",
   "execution_count": 2,
   "id": "c823d42f",
   "metadata": {},
   "outputs": [
    {
     "data": {
      "text/plain": [
       "6"
      ]
     },
     "execution_count": 2,
     "metadata": {},
     "output_type": "execute_result"
    }
   ],
   "source": [
    "tab = [[1,2,3,4,5],[6,7,8,9,10]]\n",
    "ex21(tab)"
   ]
  },
  {
   "cell_type": "markdown",
   "id": "174c0097",
   "metadata": {},
   "source": [
    "<h4>Exercise 22</h4>"
   ]
  },
  {
   "cell_type": "code",
   "execution_count": 163,
   "id": "e25f477e",
   "metadata": {},
   "outputs": [],
   "source": [
    "def tourHaNoi(n, first, middle, last):\n",
    "    if n==1:\n",
    "        print (\"Move disk 1 from source\",first,\"to destination\",last)\n",
    "        return\n",
    "    tourHaNoi(n-1,first,last,middle)\n",
    "    print (\"Move disk\",n,\"from source\",first,\"to destination\",last)\n",
    "    tourHaNoi(n-1,middle,first,last)\n",
    "    "
   ]
  },
  {
   "cell_type": "code",
   "execution_count": 164,
   "id": "9fa82ef0",
   "metadata": {},
   "outputs": [
    {
     "name": "stdout",
     "output_type": "stream",
     "text": [
      "Move disk 1 from source A to destination B\n",
      "Move disk 2 from source A to destination C\n",
      "Move disk 1 from source B to destination C\n",
      "Move disk 3 from source A to destination B\n",
      "Move disk 1 from source C to destination A\n",
      "Move disk 2 from source C to destination B\n",
      "Move disk 1 from source A to destination B\n",
      "Move disk 4 from source A to destination C\n",
      "Move disk 1 from source B to destination C\n",
      "Move disk 2 from source B to destination A\n",
      "Move disk 1 from source C to destination A\n",
      "Move disk 3 from source B to destination C\n",
      "Move disk 1 from source A to destination B\n",
      "Move disk 2 from source A to destination C\n",
      "Move disk 1 from source B to destination C\n"
     ]
    }
   ],
   "source": [
    "tourHaNoi(4,\"A\",\"B\",\"C\")"
   ]
  },
  {
   "cell_type": "code",
   "execution_count": 9,
   "id": "d08f02be",
   "metadata": {},
   "outputs": [
    {
     "name": "stdout",
     "output_type": "stream",
     "text": [
      "9\n",
      "non\n",
      "1\n",
      "2\n"
     ]
    }
   ],
   "source": [
    "test = \"9-12\"\n",
    "for i in range(len(test)):\n",
    "    print(test[i] if test[i].isdigit() else \"non\")"
   ]
  },
  {
   "cell_type": "markdown",
   "id": "cc9e233c",
   "metadata": {},
   "source": [
    "<h4>Exercise 23</h4>"
   ]
  },
  {
   "cell_type": "code",
   "execution_count": 13,
   "id": "bf14bbc4",
   "metadata": {},
   "outputs": [],
   "source": [
    "import turtle\n",
    "\n",
    "def koch(n,l):\n",
    "    if n ==0:\n",
    "        tur.forward(l)\n",
    "    else:\n",
    "        koch(n-1,l/3)#draw left part\n",
    "        tur.left(60)\n",
    "        koch(n-1,l/3)\n",
    "        tur.right(120)\n",
    "        koch(n-1,l/3)\n",
    "        tur.left(60)\n",
    "        koch(n-1,l/3)#draw right part\n"
   ]
  },
  {
   "cell_type": "code",
   "execution_count": 4,
   "id": "bc8065cc",
   "metadata": {},
   "outputs": [
    {
     "ename": "NameError",
     "evalue": "name 'tur' is not defined",
     "output_type": "error",
     "traceback": [
      "\u001b[0;31m---------------------------------------------------------------------------\u001b[0m",
      "\u001b[0;31mNameError\u001b[0m                                 Traceback (most recent call last)",
      "Input \u001b[0;32mIn [4]\u001b[0m, in \u001b[0;36m<module>\u001b[0;34m\u001b[0m\n\u001b[0;32m----> 1\u001b[0m \u001b[43mkoch\u001b[49m\u001b[43m(\u001b[49m\u001b[38;5;241;43m3\u001b[39;49m\u001b[43m,\u001b[49m\u001b[38;5;241;43m400\u001b[39;49m\u001b[43m)\u001b[49m\n",
      "Input \u001b[0;32mIn [3]\u001b[0m, in \u001b[0;36mkoch\u001b[0;34m(n, l)\u001b[0m\n\u001b[1;32m      3\u001b[0m     tur\u001b[38;5;241m.\u001b[39mforward(l)\n\u001b[1;32m      4\u001b[0m \u001b[38;5;28;01melse\u001b[39;00m:\n\u001b[0;32m----> 5\u001b[0m     \u001b[43mkoch\u001b[49m\u001b[43m(\u001b[49m\u001b[43mn\u001b[49m\u001b[38;5;241;43m-\u001b[39;49m\u001b[38;5;241;43m1\u001b[39;49m\u001b[43m,\u001b[49m\u001b[43ml\u001b[49m\u001b[38;5;241;43m/\u001b[39;49m\u001b[38;5;241;43m3\u001b[39;49m\u001b[43m)\u001b[49m\u001b[38;5;66;03m#draw left part\u001b[39;00m\n\u001b[1;32m      6\u001b[0m     tur\u001b[38;5;241m.\u001b[39mleft(\u001b[38;5;241m60\u001b[39m)\n\u001b[1;32m      7\u001b[0m     koch(n\u001b[38;5;241m-\u001b[39m\u001b[38;5;241m1\u001b[39m,l\u001b[38;5;241m/\u001b[39m\u001b[38;5;241m3\u001b[39m)\n",
      "Input \u001b[0;32mIn [3]\u001b[0m, in \u001b[0;36mkoch\u001b[0;34m(n, l)\u001b[0m\n\u001b[1;32m      3\u001b[0m     tur\u001b[38;5;241m.\u001b[39mforward(l)\n\u001b[1;32m      4\u001b[0m \u001b[38;5;28;01melse\u001b[39;00m:\n\u001b[0;32m----> 5\u001b[0m     \u001b[43mkoch\u001b[49m\u001b[43m(\u001b[49m\u001b[43mn\u001b[49m\u001b[38;5;241;43m-\u001b[39;49m\u001b[38;5;241;43m1\u001b[39;49m\u001b[43m,\u001b[49m\u001b[43ml\u001b[49m\u001b[38;5;241;43m/\u001b[39;49m\u001b[38;5;241;43m3\u001b[39;49m\u001b[43m)\u001b[49m\u001b[38;5;66;03m#draw left part\u001b[39;00m\n\u001b[1;32m      6\u001b[0m     tur\u001b[38;5;241m.\u001b[39mleft(\u001b[38;5;241m60\u001b[39m)\n\u001b[1;32m      7\u001b[0m     koch(n\u001b[38;5;241m-\u001b[39m\u001b[38;5;241m1\u001b[39m,l\u001b[38;5;241m/\u001b[39m\u001b[38;5;241m3\u001b[39m)\n",
      "Input \u001b[0;32mIn [3]\u001b[0m, in \u001b[0;36mkoch\u001b[0;34m(n, l)\u001b[0m\n\u001b[1;32m      3\u001b[0m     tur\u001b[38;5;241m.\u001b[39mforward(l)\n\u001b[1;32m      4\u001b[0m \u001b[38;5;28;01melse\u001b[39;00m:\n\u001b[0;32m----> 5\u001b[0m     \u001b[43mkoch\u001b[49m\u001b[43m(\u001b[49m\u001b[43mn\u001b[49m\u001b[38;5;241;43m-\u001b[39;49m\u001b[38;5;241;43m1\u001b[39;49m\u001b[43m,\u001b[49m\u001b[43ml\u001b[49m\u001b[38;5;241;43m/\u001b[39;49m\u001b[38;5;241;43m3\u001b[39;49m\u001b[43m)\u001b[49m\u001b[38;5;66;03m#draw left part\u001b[39;00m\n\u001b[1;32m      6\u001b[0m     tur\u001b[38;5;241m.\u001b[39mleft(\u001b[38;5;241m60\u001b[39m)\n\u001b[1;32m      7\u001b[0m     koch(n\u001b[38;5;241m-\u001b[39m\u001b[38;5;241m1\u001b[39m,l\u001b[38;5;241m/\u001b[39m\u001b[38;5;241m3\u001b[39m)\n",
      "Input \u001b[0;32mIn [3]\u001b[0m, in \u001b[0;36mkoch\u001b[0;34m(n, l)\u001b[0m\n\u001b[1;32m      1\u001b[0m \u001b[38;5;28;01mdef\u001b[39;00m \u001b[38;5;21mkoch\u001b[39m(n,l):\n\u001b[1;32m      2\u001b[0m     \u001b[38;5;28;01mif\u001b[39;00m n \u001b[38;5;241m==\u001b[39m\u001b[38;5;241m0\u001b[39m:\n\u001b[0;32m----> 3\u001b[0m         \u001b[43mtur\u001b[49m\u001b[38;5;241m.\u001b[39mforward(l)\n\u001b[1;32m      4\u001b[0m     \u001b[38;5;28;01melse\u001b[39;00m:\n\u001b[1;32m      5\u001b[0m         koch(n\u001b[38;5;241m-\u001b[39m\u001b[38;5;241m1\u001b[39m,l\u001b[38;5;241m/\u001b[39m\u001b[38;5;241m3\u001b[39m)\u001b[38;5;66;03m#draw left part\u001b[39;00m\n",
      "\u001b[0;31mNameError\u001b[0m: name 'tur' is not defined"
     ]
    }
   ],
   "source": [
    "koch(3,400)"
   ]
  },
  {
   "cell_type": "code",
   "execution_count": null,
   "id": "35ef057c",
   "metadata": {},
   "outputs": [],
   "source": []
  }
 ],
 "metadata": {
  "kernelspec": {
   "display_name": "Python 3 (ipykernel)",
   "language": "python",
   "name": "python3"
  },
  "language_info": {
   "codemirror_mode": {
    "name": "ipython",
    "version": 3
   },
   "file_extension": ".py",
   "mimetype": "text/x-python",
   "name": "python",
   "nbconvert_exporter": "python",
   "pygments_lexer": "ipython3",
   "version": "3.8.2"
  }
 },
 "nbformat": 4,
 "nbformat_minor": 5
}
