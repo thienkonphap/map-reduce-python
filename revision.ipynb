{
 "cells": [
  {
   "cell_type": "code",
   "execution_count": 277,
   "id": "98d6c8a7",
   "metadata": {},
   "outputs": [],
   "source": [
    "from functools import reduce"
   ]
  },
  {
   "cell_type": "code",
   "execution_count": 278,
   "id": "39b78a97",
   "metadata": {},
   "outputs": [],
   "source": [
    "def car_S1(x):\n",
    "    return x>0\n",
    "def car_S2(x):\n",
    "    return True if x>=0 and x%2==0 else False\n",
    "def car_S3(x):\n",
    "    return x in [0,3,7,9]\n",
    "def car_S4(x):\n",
    "    return x in [i for i in range (10,101)]\n",
    "def car_S5(x):\n",
    "    return False"
   ]
  },
  {
   "cell_type": "code",
   "execution_count": 279,
   "id": "f7059918",
   "metadata": {},
   "outputs": [],
   "source": [
    "def union(car_S1,car_S2):\n",
    "    return (lambda x : True if (car_S1(x)) or car_S2(x) else False) \n",
    "def inter(car_S1,car_S2):\n",
    "    return (lambda x : True if (car_S1(x)) and car_S2(x) else False)\n",
    "def ajout(x, car_S):\n",
    "    return (lambda e: True if x==e or car_S(e) else False)\n",
    "def ensemble(l):\n",
    "    return (lambda e : e in l)"
   ]
  },
  {
   "cell_type": "code",
   "execution_count": 280,
   "id": "0400099e",
   "metadata": {},
   "outputs": [],
   "source": [
    "a = ajout(-2, car_S2)"
   ]
  },
  {
   "cell_type": "code",
   "execution_count": 281,
   "id": "6f18de3e",
   "metadata": {},
   "outputs": [
    {
     "data": {
      "text/plain": [
       "True"
      ]
     },
     "execution_count": 281,
     "metadata": {},
     "output_type": "execute_result"
    }
   ],
   "source": [
    "a(-2)"
   ]
  },
  {
   "cell_type": "code",
   "execution_count": 282,
   "id": "b2aa8e77",
   "metadata": {},
   "outputs": [],
   "source": [
    "b = ajout(-7,a)"
   ]
  },
  {
   "cell_type": "code",
   "execution_count": 283,
   "id": "9de6db44",
   "metadata": {},
   "outputs": [
    {
     "data": {
      "text/plain": [
       "True"
      ]
     },
     "execution_count": 283,
     "metadata": {},
     "output_type": "execute_result"
    }
   ],
   "source": [
    "b(10)"
   ]
  },
  {
   "cell_type": "code",
   "execution_count": 284,
   "id": "213ca00d",
   "metadata": {},
   "outputs": [
    {
     "data": {
      "text/plain": [
       "False"
      ]
     },
     "execution_count": 284,
     "metadata": {},
     "output_type": "execute_result"
    }
   ],
   "source": [
    "ensemble([1,2,3,4])(0)"
   ]
  },
  {
   "cell_type": "code",
   "execution_count": 285,
   "id": "40e73bf9",
   "metadata": {},
   "outputs": [],
   "source": [
    "def fact(n):\n",
    "    def ff (suite, n):\n",
    "        if n<=1:\n",
    "            return 1\n",
    "        else:\n",
    "            return n*suite(suite, n-1)\n",
    "    return ff(ff,n)"
   ]
  },
  {
   "cell_type": "code",
   "execution_count": 286,
   "id": "bf9d4568",
   "metadata": {},
   "outputs": [],
   "source": [
    "assert fact(0) == 1\n",
    "assert fact(1) == 1\n",
    "assert fact(2) == 2\n",
    "assert fact(3) == 6\n",
    "assert fact(4) == 24\n",
    "assert fact(5) == 120\n"
   ]
  },
  {
   "cell_type": "code",
   "execution_count": 287,
   "id": "be58ad6d",
   "metadata": {},
   "outputs": [
    {
     "data": {
      "text/plain": [
       "3628800"
      ]
     },
     "execution_count": 287,
     "metadata": {},
     "output_type": "execute_result"
    }
   ],
   "source": [
    "fact(10)"
   ]
  },
  {
   "cell_type": "code",
   "execution_count": 304,
   "id": "a9002fec",
   "metadata": {},
   "outputs": [],
   "source": [
    "def somme_des_carres(l):\n",
    "    return reduce(lambda x , y : x+y**2,l,0)\n",
    "def maximum(l):\n",
    "    return reduce(lambda x , y: x if x>=y else y, l)\n",
    "def fst(l):\n",
    "    return reduce(lambda x , y: x+[y[0]],l,[])\n",
    "def fst2(l):\n",
    "    return list(map(lambda x : x[0],l))\n",
    "def permute(l):\n",
    "    return list(map(lambda x: 1 if x==0 else(0 if x==1 else x),l) )\n",
    "def permute2(l):\n",
    "    return reduce(lambda x,y: x+[1 if y==0 else(0 if y==1 else y)],l,[])\n",
    "def compte0(l):\n",
    "    return reduce(lambda x, y: x+1 if y==0 else x,l,0)\n",
    "def compte2(l):\n",
    "    return len(list(filter(lambda x: x==0, l)))\n",
    "def pgs(v,l):## pgs(1,[1,1,1, 3,4,1,1,1,1,1]) return 5\n",
    "    return max(reduce(lambda x, y : x+[x[-1]+1] if y==v else x+[0],l,[0]))\n",
    "def pgs2(v,l):\n",
    "    return( reduce(lambda x, y : x+[(0,x[-1][1])] if y!=v else (x+[(x[-1][0]+1,x[-1][1])] if x[-1][0]<x[-1][1] else x+[(x[-1][0]+1,x[-1][0]+1)] ),l,[(0,0)]))[-1][1]"
   ]
  },
  {
   "cell_type": "code",
   "execution_count": 289,
   "id": "9e3fd4f5",
   "metadata": {},
   "outputs": [],
   "source": [
    "\n",
    "assert somme_des_carres([1, 2, 3]) == 14\n",
    "assert somme_des_carres([0, -2, 100 * 3]) == (100*3)**2 + 4\n",
    "assert somme_des_carres([]) == 0"
   ]
  },
  {
   "cell_type": "code",
   "execution_count": 290,
   "id": "c6b7b8a0",
   "metadata": {},
   "outputs": [],
   "source": [
    "assert maximum([1, 2, 3]) == 3\n",
    "assert maximum([0, -2, 100 * 3]) == 300"
   ]
  },
  {
   "cell_type": "code",
   "execution_count": 291,
   "id": "f401c9e4",
   "metadata": {},
   "outputs": [
    {
     "data": {
      "text/plain": [
       "[1, 3]"
      ]
     },
     "execution_count": 291,
     "metadata": {},
     "output_type": "execute_result"
    }
   ],
   "source": [
    "fst2([(1,2),(3,4)])"
   ]
  },
  {
   "cell_type": "code",
   "execution_count": 292,
   "id": "028f007b",
   "metadata": {},
   "outputs": [],
   "source": [
    "assert permute([0, 1, 0, 1]) == [1, 0, 1, 0]\n",
    "assert permute([1, 0, 1, 0]) == [0, 1, 0, 1]\n",
    "assert permute([0, 0, 0, 0]) == [1, 1, 1, 1]\n",
    "assert permute([1, 1, 1, 1]) == [0, 0, 0, 0]\n",
    "assert permute([]) == []"
   ]
  },
  {
   "cell_type": "code",
   "execution_count": 259,
   "id": "d3f61b18",
   "metadata": {},
   "outputs": [],
   "source": [
    "assert permute2([0, 1, 0, 1]) == [1, 0, 1, 0]\n",
    "assert permute2([1, 0, 1, 0]) == [0, 1, 0, 1]\n",
    "assert permute2([0, 0, 0, 0]) == [1, 1, 1, 1]\n",
    "assert permute2([1, 1, 1, 1]) == [0, 0, 0, 0]\n",
    "assert permute2([]) == []"
   ]
  },
  {
   "cell_type": "code",
   "execution_count": 260,
   "id": "387fdca7",
   "metadata": {},
   "outputs": [],
   "source": [
    "assert compte0([0, 1, 0, 1]) == 2\n",
    "assert compte0([1, 0, 1, 0]) == 2\n",
    "assert compte0([0, 0, 0, 0]) == 4\n",
    "assert compte0([1, 1, 1, 1]) == 0\n",
    "assert compte0([]) == 0"
   ]
  },
  {
   "cell_type": "code",
   "execution_count": 261,
   "id": "8134c869",
   "metadata": {},
   "outputs": [
    {
     "data": {
      "text/plain": [
       "4"
      ]
     },
     "execution_count": 261,
     "metadata": {},
     "output_type": "execute_result"
    }
   ],
   "source": [
    "compte2([0, 0, 0, 0,1])"
   ]
  },
  {
   "cell_type": "code",
   "execution_count": 305,
   "id": "bf036de2",
   "metadata": {},
   "outputs": [
    {
     "data": {
      "text/plain": [
       "7"
      ]
     },
     "execution_count": 305,
     "metadata": {},
     "output_type": "execute_result"
    }
   ],
   "source": [
    "pgs2(1,[1,1,12,3,1,1,1,1,1,1,1, 2,3])"
   ]
  },
  {
   "cell_type": "code",
   "execution_count": 227,
   "id": "290a37e3",
   "metadata": {},
   "outputs": [],
   "source": [
    "assert pgs(0, [0, 1, 0, 1]) == 1\n",
    "assert pgs(2, [1, 0, 1, 0, 2]) == 1\n",
    "assert pgs(0, [0, 0, 0, 0]) == 4\n",
    "assert pgs(0, [1, 1, 1, 1]) == 0\n",
    "assert pgs(0, []) == 0\n",
    "assert pgs(0, [0, 0, 1, 1, 0, 0, 0, 1, 0]) == 3\n",
    "assert pgs('a', ['a', 'a', 'b', 'a', 'a', 'a', 'b', 'a', 'a']) == 3"
   ]
  },
  {
   "cell_type": "code",
   "execution_count": null,
   "id": "0e40d86f",
   "metadata": {},
   "outputs": [],
   "source": []
  }
 ],
 "metadata": {
  "kernelspec": {
   "display_name": "Python 3 (ipykernel)",
   "language": "python",
   "name": "python3"
  },
  "language_info": {
   "codemirror_mode": {
    "name": "ipython",
    "version": 3
   },
   "file_extension": ".py",
   "mimetype": "text/x-python",
   "name": "python",
   "nbconvert_exporter": "python",
   "pygments_lexer": "ipython3",
   "version": "3.8.2"
  }
 },
 "nbformat": 4,
 "nbformat_minor": 5
}
