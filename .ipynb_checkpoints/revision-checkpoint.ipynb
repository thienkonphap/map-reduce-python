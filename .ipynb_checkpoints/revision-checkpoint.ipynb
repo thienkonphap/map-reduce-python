{
 "cells": [
  {
   "cell_type": "code",
   "execution_count": 1,
   "id": "1efe0c6a",
   "metadata": {},
   "outputs": [],
   "source": [
    "from functools import reduce"
   ]
  },
  {
   "cell_type": "code",
   "execution_count": 19,
   "id": "9a56dfe3",
   "metadata": {},
   "outputs": [],
   "source": [
    "def car_S1(x):\n",
    "    return x>0\n",
    "def car_S2(x):\n",
    "    return True if x>=0 and x%2==0 else False\n",
    "def car_S3(x):\n",
    "    return x in [0,3,7,9]\n",
    "def car_S4(x):\n",
    "    return x in [i for i in range (10,101)]\n",
    "def car_S5(x):\n",
    "    return False"
   ]
  },
  {
   "cell_type": "code",
   "execution_count": 23,
   "id": "7e84e995",
   "metadata": {},
   "outputs": [
    {
     "data": {
      "text/plain": [
       "False"
      ]
     },
     "execution_count": 23,
     "metadata": {},
     "output_type": "execute_result"
    }
   ],
   "source": [
    "car_S4(101)"
   ]
  },
  {
   "cell_type": "code",
   "execution_count": null,
   "id": "db46f072",
   "metadata": {},
   "outputs": [],
   "source": []
  }
 ],
 "metadata": {
  "kernelspec": {
   "display_name": "Python 3 (ipykernel)",
   "language": "python",
   "name": "python3"
  },
  "language_info": {
   "codemirror_mode": {
    "name": "ipython",
    "version": 3
   },
   "file_extension": ".py",
   "mimetype": "text/x-python",
   "name": "python",
   "nbconvert_exporter": "python",
   "pygments_lexer": "ipython3",
   "version": "3.8.2"
  }
 },
 "nbformat": 4,
 "nbformat_minor": 5
}
