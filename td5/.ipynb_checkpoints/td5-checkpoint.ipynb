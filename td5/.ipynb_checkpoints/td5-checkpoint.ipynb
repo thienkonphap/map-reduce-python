{
 "cells": [
  {
   "cell_type": "code",
   "execution_count": 50,
   "id": "2fd0fbbd",
   "metadata": {},
   "outputs": [],
   "source": [
    "import pandas as pd\n",
    "import matplotlib as plt"
   ]
  },
  {
   "cell_type": "code",
   "execution_count": 51,
   "id": "2c68e1a2",
   "metadata": {},
   "outputs": [],
   "source": [
    "schema_movies = [('Id','i'),('Titel','U'),('Year', 'i'),('Runtime', 'i'),('Rank','i')]"
   ]
  },
  {
   "cell_type": "code",
   "execution_count": 52,
   "id": "b7bfdf0f",
   "metadata": {},
   "outputs": [],
   "source": [
    "df = pd.read_csv(\"movies.csv\", delimiter=\";\",dtype =schema_movies )"
   ]
  },
  {
   "cell_type": "code",
   "execution_count": 53,
   "id": "15c372e4",
   "metadata": {},
   "outputs": [
    {
     "data": {
      "text/html": [
       "<div>\n",
       "<style scoped>\n",
       "    .dataframe tbody tr th:only-of-type {\n",
       "        vertical-align: middle;\n",
       "    }\n",
       "\n",
       "    .dataframe tbody tr th {\n",
       "        vertical-align: top;\n",
       "    }\n",
       "\n",
       "    .dataframe thead th {\n",
       "        text-align: right;\n",
       "    }\n",
       "</style>\n",
       "<table border=\"1\" class=\"dataframe\">\n",
       "  <thead>\n",
       "    <tr style=\"text-align: right;\">\n",
       "      <th></th>\n",
       "      <th>ID</th>\n",
       "      <th>TITLE</th>\n",
       "      <th>YEAR</th>\n",
       "      <th>RUNTIME</th>\n",
       "      <th>RANK</th>\n",
       "    </tr>\n",
       "  </thead>\n",
       "  <tbody>\n",
       "    <tr>\n",
       "      <th>0</th>\n",
       "      <td>2065</td>\n",
       "      <td>The Treasure of the Sierra Madre</td>\n",
       "      <td>1948</td>\n",
       "      <td>126</td>\n",
       "      <td>66</td>\n",
       "    </tr>\n",
       "    <tr>\n",
       "      <th>1</th>\n",
       "      <td>2115</td>\n",
       "      <td>Million Dollar Baby</td>\n",
       "      <td>2004</td>\n",
       "      <td>132</td>\n",
       "      <td>116</td>\n",
       "    </tr>\n",
       "    <tr>\n",
       "      <th>2</th>\n",
       "      <td>2089</td>\n",
       "      <td>No Country for Old Men</td>\n",
       "      <td>2007</td>\n",
       "      <td>122</td>\n",
       "      <td>90</td>\n",
       "    </tr>\n",
       "    <tr>\n",
       "      <th>3</th>\n",
       "      <td>2009</td>\n",
       "      <td>Star Wars : Episode V - The Empire Strikes Back</td>\n",
       "      <td>1980</td>\n",
       "      <td>190</td>\n",
       "      <td>10</td>\n",
       "    </tr>\n",
       "    <tr>\n",
       "      <th>4</th>\n",
       "      <td>2070</td>\n",
       "      <td>Singin' in the Rain</td>\n",
       "      <td>1952</td>\n",
       "      <td>103</td>\n",
       "      <td>71</td>\n",
       "    </tr>\n",
       "    <tr>\n",
       "      <th>...</th>\n",
       "      <td>...</td>\n",
       "      <td>...</td>\n",
       "      <td>...</td>\n",
       "      <td>...</td>\n",
       "      <td>...</td>\n",
       "    </tr>\n",
       "    <tr>\n",
       "      <th>206</th>\n",
       "      <td>2143</td>\n",
       "      <td>The Grapes of Wrath</td>\n",
       "      <td>1940</td>\n",
       "      <td>190</td>\n",
       "      <td>144</td>\n",
       "    </tr>\n",
       "    <tr>\n",
       "      <th>207</th>\n",
       "      <td>2010</td>\n",
       "      <td>The Dark Knight</td>\n",
       "      <td>2008</td>\n",
       "      <td>152</td>\n",
       "      <td>11</td>\n",
       "    </tr>\n",
       "    <tr>\n",
       "      <th>208</th>\n",
       "      <td>2197</td>\n",
       "      <td>Anatomy of a Murder</td>\n",
       "      <td>1959</td>\n",
       "      <td>160</td>\n",
       "      <td>198</td>\n",
       "    </tr>\n",
       "    <tr>\n",
       "      <th>209</th>\n",
       "      <td>2164</td>\n",
       "      <td>Rosemary's Baby</td>\n",
       "      <td>1968</td>\n",
       "      <td>136</td>\n",
       "      <td>165</td>\n",
       "    </tr>\n",
       "    <tr>\n",
       "      <th>210</th>\n",
       "      <td>2091</td>\n",
       "      <td>For a Few Dollars More</td>\n",
       "      <td>1965</td>\n",
       "      <td>132</td>\n",
       "      <td>92</td>\n",
       "    </tr>\n",
       "  </tbody>\n",
       "</table>\n",
       "<p>211 rows × 5 columns</p>\n",
       "</div>"
      ],
      "text/plain": [
       "       ID                                            TITLE  YEAR  RUNTIME  \\\n",
       "0    2065                 The Treasure of the Sierra Madre  1948      126   \n",
       "1    2115                              Million Dollar Baby  2004      132   \n",
       "2    2089                           No Country for Old Men  2007      122   \n",
       "3    2009  Star Wars : Episode V - The Empire Strikes Back  1980      190   \n",
       "4    2070                              Singin' in the Rain  1952      103   \n",
       "..    ...                                              ...   ...      ...   \n",
       "206  2143                              The Grapes of Wrath  1940      190   \n",
       "207  2010                                  The Dark Knight  2008      152   \n",
       "208  2197                              Anatomy of a Murder  1959      160   \n",
       "209  2164                                  Rosemary's Baby  1968      136   \n",
       "210  2091                           For a Few Dollars More  1965      132   \n",
       "\n",
       "     RANK  \n",
       "0      66  \n",
       "1     116  \n",
       "2      90  \n",
       "3      10  \n",
       "4      71  \n",
       "..    ...  \n",
       "206   144  \n",
       "207    11  \n",
       "208   198  \n",
       "209   165  \n",
       "210    92  \n",
       "\n",
       "[211 rows x 5 columns]"
      ]
     },
     "execution_count": 53,
     "metadata": {},
     "output_type": "execute_result"
    }
   ],
   "source": [
    "df"
   ]
  },
  {
   "cell_type": "code",
   "execution_count": 54,
   "id": "86638dd1",
   "metadata": {},
   "outputs": [
    {
     "data": {
      "text/plain": [
       "Index(['ID', 'TITLE', 'YEAR', 'RUNTIME', 'RANK'], dtype='object')"
      ]
     },
     "execution_count": 54,
     "metadata": {},
     "output_type": "execute_result"
    }
   ],
   "source": [
    "df.columns"
   ]
  },
  {
   "cell_type": "code",
   "execution_count": 55,
   "id": "0304c61c",
   "metadata": {},
   "outputs": [
    {
     "data": {
      "text/plain": [
       "ID          int32\n",
       "TITLE      object\n",
       "YEAR        int32\n",
       "RUNTIME     int32\n",
       "RANK        int32\n",
       "dtype: object"
      ]
     },
     "execution_count": 55,
     "metadata": {},
     "output_type": "execute_result"
    }
   ],
   "source": [
    "schema_movies = df.dtypes\n",
    "schema_movies"
   ]
  },
  {
   "cell_type": "code",
   "execution_count": 67,
   "id": "8ea1a73f",
   "metadata": {},
   "outputs": [
    {
     "data": {
      "text/plain": [
       "(211, 5)"
      ]
     },
     "execution_count": 67,
     "metadata": {},
     "output_type": "execute_result"
    }
   ],
   "source": [
    "df.shape"
   ]
  },
  {
   "cell_type": "code",
   "execution_count": 66,
   "id": "d92feb42",
   "metadata": {},
   "outputs": [
    {
     "name": "stdout",
     "output_type": "stream",
     "text": [
      "Nombre de lignes :  211\n"
     ]
    }
   ],
   "source": [
    "print(\"Nombre de lignes : \", df.shape[0])\n",
    "print(\"Anné la plus grand: \",df['YEAR'].max())"
   ]
  },
  {
   "cell_type": "code",
   "execution_count": 75,
   "id": "8bf6fb5a",
   "metadata": {},
   "outputs": [
    {
     "data": {
      "text/plain": [
       "2010"
      ]
     },
     "execution_count": 75,
     "metadata": {},
     "output_type": "execute_result"
    }
   ],
   "source": [
    "df['YEAR'].max()"
   ]
  },
  {
   "cell_type": "code",
   "execution_count": null,
   "id": "128be5fb",
   "metadata": {},
   "outputs": [],
   "source": []
  }
 ],
 "metadata": {
  "kernelspec": {
   "display_name": "Python 3 (ipykernel)",
   "language": "python",
   "name": "python3"
  },
  "language_info": {
   "codemirror_mode": {
    "name": "ipython",
    "version": 3
   },
   "file_extension": ".py",
   "mimetype": "text/x-python",
   "name": "python",
   "nbconvert_exporter": "python",
   "pygments_lexer": "ipython3",
   "version": "3.8.2"
  }
 },
 "nbformat": 4,
 "nbformat_minor": 5
}
