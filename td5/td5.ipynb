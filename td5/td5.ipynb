{
 "cells": [
  {
   "cell_type": "code",
   "execution_count": 165,
   "id": "4cac4446",
   "metadata": {},
   "outputs": [],
   "source": [
    "import pandas as pd\n",
    "from matplotlib import pyplot"
   ]
  },
  {
   "cell_type": "code",
   "execution_count": 51,
   "id": "2eb322ee",
   "metadata": {},
   "outputs": [],
   "source": [
    "schema_movies = [('Id','i'),('Titel','U'),('Year', 'i'),('Runtime', 'i'),('Rank','i')]"
   ]
  },
  {
   "cell_type": "code",
   "execution_count": 52,
   "id": "2d9a5abe",
   "metadata": {},
   "outputs": [],
   "source": [
    "df = pd.read_csv(\"movies.csv\", delimiter=\";\",dtype =schema_movies )"
   ]
  },
  {
   "cell_type": "code",
   "execution_count": 53,
   "id": "3ac5cf66",
   "metadata": {},
   "outputs": [
    {
     "data": {
      "text/html": [
       "<div>\n",
       "<style scoped>\n",
       "    .dataframe tbody tr th:only-of-type {\n",
       "        vertical-align: middle;\n",
       "    }\n",
       "\n",
       "    .dataframe tbody tr th {\n",
       "        vertical-align: top;\n",
       "    }\n",
       "\n",
       "    .dataframe thead th {\n",
       "        text-align: right;\n",
       "    }\n",
       "</style>\n",
       "<table border=\"1\" class=\"dataframe\">\n",
       "  <thead>\n",
       "    <tr style=\"text-align: right;\">\n",
       "      <th></th>\n",
       "      <th>ID</th>\n",
       "      <th>TITLE</th>\n",
       "      <th>YEAR</th>\n",
       "      <th>RUNTIME</th>\n",
       "      <th>RANK</th>\n",
       "    </tr>\n",
       "  </thead>\n",
       "  <tbody>\n",
       "    <tr>\n",
       "      <th>0</th>\n",
       "      <td>2065</td>\n",
       "      <td>The Treasure of the Sierra Madre</td>\n",
       "      <td>1948</td>\n",
       "      <td>126</td>\n",
       "      <td>66</td>\n",
       "    </tr>\n",
       "    <tr>\n",
       "      <th>1</th>\n",
       "      <td>2115</td>\n",
       "      <td>Million Dollar Baby</td>\n",
       "      <td>2004</td>\n",
       "      <td>132</td>\n",
       "      <td>116</td>\n",
       "    </tr>\n",
       "    <tr>\n",
       "      <th>2</th>\n",
       "      <td>2089</td>\n",
       "      <td>No Country for Old Men</td>\n",
       "      <td>2007</td>\n",
       "      <td>122</td>\n",
       "      <td>90</td>\n",
       "    </tr>\n",
       "    <tr>\n",
       "      <th>3</th>\n",
       "      <td>2009</td>\n",
       "      <td>Star Wars : Episode V - The Empire Strikes Back</td>\n",
       "      <td>1980</td>\n",
       "      <td>190</td>\n",
       "      <td>10</td>\n",
       "    </tr>\n",
       "    <tr>\n",
       "      <th>4</th>\n",
       "      <td>2070</td>\n",
       "      <td>Singin' in the Rain</td>\n",
       "      <td>1952</td>\n",
       "      <td>103</td>\n",
       "      <td>71</td>\n",
       "    </tr>\n",
       "    <tr>\n",
       "      <th>...</th>\n",
       "      <td>...</td>\n",
       "      <td>...</td>\n",
       "      <td>...</td>\n",
       "      <td>...</td>\n",
       "      <td>...</td>\n",
       "    </tr>\n",
       "    <tr>\n",
       "      <th>206</th>\n",
       "      <td>2143</td>\n",
       "      <td>The Grapes of Wrath</td>\n",
       "      <td>1940</td>\n",
       "      <td>190</td>\n",
       "      <td>144</td>\n",
       "    </tr>\n",
       "    <tr>\n",
       "      <th>207</th>\n",
       "      <td>2010</td>\n",
       "      <td>The Dark Knight</td>\n",
       "      <td>2008</td>\n",
       "      <td>152</td>\n",
       "      <td>11</td>\n",
       "    </tr>\n",
       "    <tr>\n",
       "      <th>208</th>\n",
       "      <td>2197</td>\n",
       "      <td>Anatomy of a Murder</td>\n",
       "      <td>1959</td>\n",
       "      <td>160</td>\n",
       "      <td>198</td>\n",
       "    </tr>\n",
       "    <tr>\n",
       "      <th>209</th>\n",
       "      <td>2164</td>\n",
       "      <td>Rosemary's Baby</td>\n",
       "      <td>1968</td>\n",
       "      <td>136</td>\n",
       "      <td>165</td>\n",
       "    </tr>\n",
       "    <tr>\n",
       "      <th>210</th>\n",
       "      <td>2091</td>\n",
       "      <td>For a Few Dollars More</td>\n",
       "      <td>1965</td>\n",
       "      <td>132</td>\n",
       "      <td>92</td>\n",
       "    </tr>\n",
       "  </tbody>\n",
       "</table>\n",
       "<p>211 rows × 5 columns</p>\n",
       "</div>"
      ],
      "text/plain": [
       "       ID                                            TITLE  YEAR  RUNTIME  \\\n",
       "0    2065                 The Treasure of the Sierra Madre  1948      126   \n",
       "1    2115                              Million Dollar Baby  2004      132   \n",
       "2    2089                           No Country for Old Men  2007      122   \n",
       "3    2009  Star Wars : Episode V - The Empire Strikes Back  1980      190   \n",
       "4    2070                              Singin' in the Rain  1952      103   \n",
       "..    ...                                              ...   ...      ...   \n",
       "206  2143                              The Grapes of Wrath  1940      190   \n",
       "207  2010                                  The Dark Knight  2008      152   \n",
       "208  2197                              Anatomy of a Murder  1959      160   \n",
       "209  2164                                  Rosemary's Baby  1968      136   \n",
       "210  2091                           For a Few Dollars More  1965      132   \n",
       "\n",
       "     RANK  \n",
       "0      66  \n",
       "1     116  \n",
       "2      90  \n",
       "3      10  \n",
       "4      71  \n",
       "..    ...  \n",
       "206   144  \n",
       "207    11  \n",
       "208   198  \n",
       "209   165  \n",
       "210    92  \n",
       "\n",
       "[211 rows x 5 columns]"
      ]
     },
     "execution_count": 53,
     "metadata": {},
     "output_type": "execute_result"
    }
   ],
   "source": [
    "df"
   ]
  },
  {
   "cell_type": "code",
   "execution_count": 54,
   "id": "161fe12e",
   "metadata": {},
   "outputs": [
    {
     "data": {
      "text/plain": [
       "Index(['ID', 'TITLE', 'YEAR', 'RUNTIME', 'RANK'], dtype='object')"
      ]
     },
     "execution_count": 54,
     "metadata": {},
     "output_type": "execute_result"
    }
   ],
   "source": [
    "df.columns"
   ]
  },
  {
   "cell_type": "code",
   "execution_count": 55,
   "id": "37061218",
   "metadata": {},
   "outputs": [
    {
     "data": {
      "text/plain": [
       "ID          int32\n",
       "TITLE      object\n",
       "YEAR        int32\n",
       "RUNTIME     int32\n",
       "RANK        int32\n",
       "dtype: object"
      ]
     },
     "execution_count": 55,
     "metadata": {},
     "output_type": "execute_result"
    }
   ],
   "source": [
    "schema_movies = df.dtypes\n",
    "schema_movies"
   ]
  },
  {
   "cell_type": "code",
   "execution_count": 67,
   "id": "d1986312",
   "metadata": {},
   "outputs": [
    {
     "data": {
      "text/plain": [
       "(211, 5)"
      ]
     },
     "execution_count": 67,
     "metadata": {},
     "output_type": "execute_result"
    }
   ],
   "source": [
    "df.shape"
   ]
  },
  {
   "cell_type": "code",
   "execution_count": 77,
   "id": "c4999e74",
   "metadata": {},
   "outputs": [
    {
     "name": "stdout",
     "output_type": "stream",
     "text": [
      "Nombre de lignes :  211\n",
      "Anné la plus grand:  2010\n",
      "Moyenne des durées 140.4218009478673\n"
     ]
    }
   ],
   "source": [
    "print(\"Nombre de lignes : \", df.shape[0])\n",
    "print(\"Anné la plus grand: \",df['YEAR'].max())\n",
    "print(\"Moyenne des durées\",df['RUNTIME'].mean())"
   ]
  },
  {
   "cell_type": "code",
   "execution_count": 75,
   "id": "3162416b",
   "metadata": {},
   "outputs": [
    {
     "data": {
      "text/plain": [
       "2010"
      ]
     },
     "execution_count": 75,
     "metadata": {},
     "output_type": "execute_result"
    }
   ],
   "source": [
    "df['YEAR'].max()"
   ]
  },
  {
   "cell_type": "markdown",
   "id": "d7190044",
   "metadata": {},
   "source": [
    "**Les films dont le rang est inférieur à 20**"
   ]
  },
  {
   "cell_type": "code",
   "execution_count": 112,
   "id": "8a02ef56",
   "metadata": {},
   "outputs": [
    {
     "data": {
      "text/html": [
       "<div>\n",
       "<style scoped>\n",
       "    .dataframe tbody tr th:only-of-type {\n",
       "        vertical-align: middle;\n",
       "    }\n",
       "\n",
       "    .dataframe tbody tr th {\n",
       "        vertical-align: top;\n",
       "    }\n",
       "\n",
       "    .dataframe thead th {\n",
       "        text-align: right;\n",
       "    }\n",
       "</style>\n",
       "<table border=\"1\" class=\"dataframe\">\n",
       "  <thead>\n",
       "    <tr style=\"text-align: right;\">\n",
       "      <th></th>\n",
       "      <th>ID</th>\n",
       "      <th>TITLE</th>\n",
       "      <th>YEAR</th>\n",
       "      <th>RUNTIME</th>\n",
       "      <th>RANK</th>\n",
       "    </tr>\n",
       "  </thead>\n",
       "  <tbody>\n",
       "    <tr>\n",
       "      <th>3</th>\n",
       "      <td>2009</td>\n",
       "      <td>Star Wars : Episode V - The Empire Strikes Back</td>\n",
       "      <td>1980</td>\n",
       "      <td>190</td>\n",
       "      <td>10</td>\n",
       "    </tr>\n",
       "    <tr>\n",
       "      <th>10</th>\n",
       "      <td>2006</td>\n",
       "      <td>Schindler's List</td>\n",
       "      <td>1993</td>\n",
       "      <td>190</td>\n",
       "      <td>7</td>\n",
       "    </tr>\n",
       "    <tr>\n",
       "      <th>13</th>\n",
       "      <td>2004</td>\n",
       "      <td>The Good,the Bad and the Ugly</td>\n",
       "      <td>1966</td>\n",
       "      <td>190</td>\n",
       "      <td>5</td>\n",
       "    </tr>\n",
       "    <tr>\n",
       "      <th>22</th>\n",
       "      <td>2001</td>\n",
       "      <td>The Godfather</td>\n",
       "      <td>1972</td>\n",
       "      <td>175</td>\n",
       "      <td>2</td>\n",
       "    </tr>\n",
       "    <tr>\n",
       "      <th>29</th>\n",
       "      <td>2014</td>\n",
       "      <td>Toy Story 3</td>\n",
       "      <td>2010</td>\n",
       "      <td>103</td>\n",
       "      <td>15</td>\n",
       "    </tr>\n",
       "    <tr>\n",
       "      <th>35</th>\n",
       "      <td>2013</td>\n",
       "      <td>Star Wars : Episode IV - A New Hope</td>\n",
       "      <td>1977</td>\n",
       "      <td>190</td>\n",
       "      <td>14</td>\n",
       "    </tr>\n",
       "    <tr>\n",
       "      <th>53</th>\n",
       "      <td>2002</td>\n",
       "      <td>The Godfather Part II</td>\n",
       "      <td>1974</td>\n",
       "      <td>200</td>\n",
       "      <td>3</td>\n",
       "    </tr>\n",
       "    <tr>\n",
       "      <th>58</th>\n",
       "      <td>2008</td>\n",
       "      <td>One Flew Over the Cuckoo's Nest</td>\n",
       "      <td>1975</td>\n",
       "      <td>133</td>\n",
       "      <td>9</td>\n",
       "    </tr>\n",
       "    <tr>\n",
       "      <th>63</th>\n",
       "      <td>2015</td>\n",
       "      <td>Casablanca</td>\n",
       "      <td>1942</td>\n",
       "      <td>102</td>\n",
       "      <td>16</td>\n",
       "    </tr>\n",
       "    <tr>\n",
       "      <th>64</th>\n",
       "      <td>2007</td>\n",
       "      <td>12 Angry Men</td>\n",
       "      <td>1957</td>\n",
       "      <td>96</td>\n",
       "      <td>8</td>\n",
       "    </tr>\n",
       "    <tr>\n",
       "      <th>83</th>\n",
       "      <td>2018</td>\n",
       "      <td>City of God</td>\n",
       "      <td>2002</td>\n",
       "      <td>190</td>\n",
       "      <td>19</td>\n",
       "    </tr>\n",
       "    <tr>\n",
       "      <th>108</th>\n",
       "      <td>2005</td>\n",
       "      <td>Pulp Fiction</td>\n",
       "      <td>1994</td>\n",
       "      <td>190</td>\n",
       "      <td>6</td>\n",
       "    </tr>\n",
       "    <tr>\n",
       "      <th>112</th>\n",
       "      <td>2017</td>\n",
       "      <td>Fight Club</td>\n",
       "      <td>1999</td>\n",
       "      <td>139</td>\n",
       "      <td>18</td>\n",
       "    </tr>\n",
       "    <tr>\n",
       "      <th>125</th>\n",
       "      <td>2000</td>\n",
       "      <td>The Shawshank Redemption</td>\n",
       "      <td>1994</td>\n",
       "      <td>142</td>\n",
       "      <td>1</td>\n",
       "    </tr>\n",
       "    <tr>\n",
       "      <th>130</th>\n",
       "      <td>2016</td>\n",
       "      <td>Goodfellas</td>\n",
       "      <td>1990</td>\n",
       "      <td>146</td>\n",
       "      <td>17</td>\n",
       "    </tr>\n",
       "    <tr>\n",
       "      <th>152</th>\n",
       "      <td>2011</td>\n",
       "      <td>The Lord of the Rings : The Return of the King</td>\n",
       "      <td>2003</td>\n",
       "      <td>190</td>\n",
       "      <td>12</td>\n",
       "    </tr>\n",
       "    <tr>\n",
       "      <th>182</th>\n",
       "      <td>2003</td>\n",
       "      <td>Inception</td>\n",
       "      <td>2010</td>\n",
       "      <td>148</td>\n",
       "      <td>4</td>\n",
       "    </tr>\n",
       "    <tr>\n",
       "      <th>183</th>\n",
       "      <td>2012</td>\n",
       "      <td>Seven Samurai</td>\n",
       "      <td>1954</td>\n",
       "      <td>190</td>\n",
       "      <td>13</td>\n",
       "    </tr>\n",
       "    <tr>\n",
       "      <th>207</th>\n",
       "      <td>2010</td>\n",
       "      <td>The Dark Knight</td>\n",
       "      <td>2008</td>\n",
       "      <td>152</td>\n",
       "      <td>11</td>\n",
       "    </tr>\n",
       "  </tbody>\n",
       "</table>\n",
       "</div>"
      ],
      "text/plain": [
       "       ID                                            TITLE  YEAR  RUNTIME  \\\n",
       "3    2009  Star Wars : Episode V - The Empire Strikes Back  1980      190   \n",
       "10   2006                                 Schindler's List  1993      190   \n",
       "13   2004                    The Good,the Bad and the Ugly  1966      190   \n",
       "22   2001                                    The Godfather  1972      175   \n",
       "29   2014                                      Toy Story 3  2010      103   \n",
       "35   2013              Star Wars : Episode IV - A New Hope  1977      190   \n",
       "53   2002                            The Godfather Part II  1974      200   \n",
       "58   2008                  One Flew Over the Cuckoo's Nest  1975      133   \n",
       "63   2015                                       Casablanca  1942      102   \n",
       "64   2007                                     12 Angry Men  1957       96   \n",
       "83   2018                                      City of God  2002      190   \n",
       "108  2005                                     Pulp Fiction  1994      190   \n",
       "112  2017                                       Fight Club  1999      139   \n",
       "125  2000                         The Shawshank Redemption  1994      142   \n",
       "130  2016                                       Goodfellas  1990      146   \n",
       "152  2011   The Lord of the Rings : The Return of the King  2003      190   \n",
       "182  2003                                        Inception  2010      148   \n",
       "183  2012                                    Seven Samurai  1954      190   \n",
       "207  2010                                  The Dark Knight  2008      152   \n",
       "\n",
       "     RANK  \n",
       "3      10  \n",
       "10      7  \n",
       "13      5  \n",
       "22      2  \n",
       "29     15  \n",
       "35     14  \n",
       "53      3  \n",
       "58      9  \n",
       "63     16  \n",
       "64      8  \n",
       "83     19  \n",
       "108     6  \n",
       "112    18  \n",
       "125     1  \n",
       "130    17  \n",
       "152    12  \n",
       "182     4  \n",
       "183    13  \n",
       "207    11  "
      ]
     },
     "execution_count": 112,
     "metadata": {},
     "output_type": "execute_result"
    }
   ],
   "source": [
    "res2 = df.where(df['RANK']<20)\n",
    "df[df.RANK < 20]"
   ]
  },
  {
   "cell_type": "markdown",
   "id": "8fec3260",
   "metadata": {},
   "source": [
    "**Les films dont la durée est supérieure à la moyenne des durées**\n"
   ]
  },
  {
   "cell_type": "code",
   "execution_count": 113,
   "id": "406777e7",
   "metadata": {},
   "outputs": [
    {
     "data": {
      "text/html": [
       "<div>\n",
       "<style scoped>\n",
       "    .dataframe tbody tr th:only-of-type {\n",
       "        vertical-align: middle;\n",
       "    }\n",
       "\n",
       "    .dataframe tbody tr th {\n",
       "        vertical-align: top;\n",
       "    }\n",
       "\n",
       "    .dataframe thead th {\n",
       "        text-align: right;\n",
       "    }\n",
       "</style>\n",
       "<table border=\"1\" class=\"dataframe\">\n",
       "  <thead>\n",
       "    <tr style=\"text-align: right;\">\n",
       "      <th></th>\n",
       "      <th>ID</th>\n",
       "      <th>TITLE</th>\n",
       "      <th>YEAR</th>\n",
       "      <th>RUNTIME</th>\n",
       "      <th>RANK</th>\n",
       "    </tr>\n",
       "  </thead>\n",
       "  <tbody>\n",
       "    <tr>\n",
       "      <th>3</th>\n",
       "      <td>2009</td>\n",
       "      <td>Star Wars : Episode V - The Empire Strikes Back</td>\n",
       "      <td>1980</td>\n",
       "      <td>190</td>\n",
       "      <td>10</td>\n",
       "    </tr>\n",
       "    <tr>\n",
       "      <th>10</th>\n",
       "      <td>2006</td>\n",
       "      <td>Schindler's List</td>\n",
       "      <td>1993</td>\n",
       "      <td>190</td>\n",
       "      <td>7</td>\n",
       "    </tr>\n",
       "    <tr>\n",
       "      <th>11</th>\n",
       "      <td>2126</td>\n",
       "      <td>Gone with the Wind</td>\n",
       "      <td>1939</td>\n",
       "      <td>190</td>\n",
       "      <td>127</td>\n",
       "    </tr>\n",
       "    <tr>\n",
       "      <th>13</th>\n",
       "      <td>2004</td>\n",
       "      <td>The Good,the Bad and the Ugly</td>\n",
       "      <td>1966</td>\n",
       "      <td>190</td>\n",
       "      <td>5</td>\n",
       "    </tr>\n",
       "    <tr>\n",
       "      <th>17</th>\n",
       "      <td>2034</td>\n",
       "      <td>Forrest Gump</td>\n",
       "      <td>1994</td>\n",
       "      <td>142</td>\n",
       "      <td>35</td>\n",
       "    </tr>\n",
       "    <tr>\n",
       "      <th>...</th>\n",
       "      <td>...</td>\n",
       "      <td>...</td>\n",
       "      <td>...</td>\n",
       "      <td>...</td>\n",
       "      <td>...</td>\n",
       "    </tr>\n",
       "    <tr>\n",
       "      <th>199</th>\n",
       "      <td>2030</td>\n",
       "      <td>The Lord of the Rings : The Two Towers</td>\n",
       "      <td>2002</td>\n",
       "      <td>190</td>\n",
       "      <td>31</td>\n",
       "    </tr>\n",
       "    <tr>\n",
       "      <th>205</th>\n",
       "      <td>2199</td>\n",
       "      <td>Roman Holiday</td>\n",
       "      <td>1953</td>\n",
       "      <td>190</td>\n",
       "      <td>200</td>\n",
       "    </tr>\n",
       "    <tr>\n",
       "      <th>206</th>\n",
       "      <td>2143</td>\n",
       "      <td>The Grapes of Wrath</td>\n",
       "      <td>1940</td>\n",
       "      <td>190</td>\n",
       "      <td>144</td>\n",
       "    </tr>\n",
       "    <tr>\n",
       "      <th>207</th>\n",
       "      <td>2010</td>\n",
       "      <td>The Dark Knight</td>\n",
       "      <td>2008</td>\n",
       "      <td>152</td>\n",
       "      <td>11</td>\n",
       "    </tr>\n",
       "    <tr>\n",
       "      <th>208</th>\n",
       "      <td>2197</td>\n",
       "      <td>Anatomy of a Murder</td>\n",
       "      <td>1959</td>\n",
       "      <td>160</td>\n",
       "      <td>198</td>\n",
       "    </tr>\n",
       "  </tbody>\n",
       "</table>\n",
       "<p>87 rows × 5 columns</p>\n",
       "</div>"
      ],
      "text/plain": [
       "       ID                                            TITLE  YEAR  RUNTIME  \\\n",
       "3    2009  Star Wars : Episode V - The Empire Strikes Back  1980      190   \n",
       "10   2006                                 Schindler's List  1993      190   \n",
       "11   2126                               Gone with the Wind  1939      190   \n",
       "13   2004                    The Good,the Bad and the Ugly  1966      190   \n",
       "17   2034                                     Forrest Gump  1994      142   \n",
       "..    ...                                              ...   ...      ...   \n",
       "199  2030           The Lord of the Rings : The Two Towers  2002      190   \n",
       "205  2199                                    Roman Holiday  1953      190   \n",
       "206  2143                              The Grapes of Wrath  1940      190   \n",
       "207  2010                                  The Dark Knight  2008      152   \n",
       "208  2197                              Anatomy of a Murder  1959      160   \n",
       "\n",
       "     RANK  \n",
       "3      10  \n",
       "10      7  \n",
       "11    127  \n",
       "13      5  \n",
       "17     35  \n",
       "..    ...  \n",
       "199    31  \n",
       "205   200  \n",
       "206   144  \n",
       "207    11  \n",
       "208   198  \n",
       "\n",
       "[87 rows x 5 columns]"
      ]
     },
     "execution_count": 113,
     "metadata": {},
     "output_type": "execute_result"
    }
   ],
   "source": [
    "df[df.RUNTIME>df['RUNTIME'].mean()]"
   ]
  },
  {
   "cell_type": "markdown",
   "id": "c3aee922",
   "metadata": {},
   "source": [
    "**Les films dont le titre contient ’Wars’**"
   ]
  },
  {
   "cell_type": "code",
   "execution_count": 116,
   "id": "d086a61c",
   "metadata": {},
   "outputs": [
    {
     "data": {
      "text/html": [
       "<div>\n",
       "<style scoped>\n",
       "    .dataframe tbody tr th:only-of-type {\n",
       "        vertical-align: middle;\n",
       "    }\n",
       "\n",
       "    .dataframe tbody tr th {\n",
       "        vertical-align: top;\n",
       "    }\n",
       "\n",
       "    .dataframe thead th {\n",
       "        text-align: right;\n",
       "    }\n",
       "</style>\n",
       "<table border=\"1\" class=\"dataframe\">\n",
       "  <thead>\n",
       "    <tr style=\"text-align: right;\">\n",
       "      <th></th>\n",
       "      <th>ID</th>\n",
       "      <th>TITLE</th>\n",
       "      <th>YEAR</th>\n",
       "      <th>RUNTIME</th>\n",
       "      <th>RANK</th>\n",
       "    </tr>\n",
       "  </thead>\n",
       "  <tbody>\n",
       "    <tr>\n",
       "      <th>3</th>\n",
       "      <td>2009</td>\n",
       "      <td>Star Wars : Episode V - The Empire Strikes Back</td>\n",
       "      <td>1980</td>\n",
       "      <td>190</td>\n",
       "      <td>10</td>\n",
       "    </tr>\n",
       "    <tr>\n",
       "      <th>27</th>\n",
       "      <td>2076</td>\n",
       "      <td>Star Wars : Episode VI - Return of the Jedi</td>\n",
       "      <td>1983</td>\n",
       "      <td>190</td>\n",
       "      <td>77</td>\n",
       "    </tr>\n",
       "    <tr>\n",
       "      <th>35</th>\n",
       "      <td>2013</td>\n",
       "      <td>Star Wars : Episode IV - A New Hope</td>\n",
       "      <td>1977</td>\n",
       "      <td>190</td>\n",
       "      <td>14</td>\n",
       "    </tr>\n",
       "  </tbody>\n",
       "</table>\n",
       "</div>"
      ],
      "text/plain": [
       "      ID                                            TITLE  YEAR  RUNTIME  RANK\n",
       "3   2009  Star Wars : Episode V - The Empire Strikes Back  1980      190    10\n",
       "27  2076      Star Wars : Episode VI - Return of the Jedi  1983      190    77\n",
       "35  2013              Star Wars : Episode IV - A New Hope  1977      190    14"
      ]
     },
     "execution_count": 116,
     "metadata": {},
     "output_type": "execute_result"
    }
   ],
   "source": [
    "df[df.TITLE.str.contains('Wars')]"
   ]
  },
  {
   "cell_type": "code",
   "execution_count": 123,
   "id": "6c7c5920",
   "metadata": {},
   "outputs": [
    {
     "data": {
      "text/html": [
       "<div>\n",
       "<style scoped>\n",
       "    .dataframe tbody tr th:only-of-type {\n",
       "        vertical-align: middle;\n",
       "    }\n",
       "\n",
       "    .dataframe tbody tr th {\n",
       "        vertical-align: top;\n",
       "    }\n",
       "\n",
       "    .dataframe thead th {\n",
       "        text-align: right;\n",
       "    }\n",
       "</style>\n",
       "<table border=\"1\" class=\"dataframe\">\n",
       "  <thead>\n",
       "    <tr style=\"text-align: right;\">\n",
       "      <th></th>\n",
       "      <th>ID</th>\n",
       "      <th>TITLE</th>\n",
       "      <th>YEAR</th>\n",
       "      <th>RUNTIME</th>\n",
       "      <th>RANK</th>\n",
       "    </tr>\n",
       "  </thead>\n",
       "  <tbody>\n",
       "    <tr>\n",
       "      <th>125</th>\n",
       "      <td>2000</td>\n",
       "      <td>The Shawshank Redemption</td>\n",
       "      <td>1994</td>\n",
       "      <td>142</td>\n",
       "      <td>1</td>\n",
       "    </tr>\n",
       "    <tr>\n",
       "      <th>22</th>\n",
       "      <td>2001</td>\n",
       "      <td>The Godfather</td>\n",
       "      <td>1972</td>\n",
       "      <td>175</td>\n",
       "      <td>2</td>\n",
       "    </tr>\n",
       "    <tr>\n",
       "      <th>53</th>\n",
       "      <td>2002</td>\n",
       "      <td>The Godfather Part II</td>\n",
       "      <td>1974</td>\n",
       "      <td>200</td>\n",
       "      <td>3</td>\n",
       "    </tr>\n",
       "    <tr>\n",
       "      <th>182</th>\n",
       "      <td>2003</td>\n",
       "      <td>Inception</td>\n",
       "      <td>2010</td>\n",
       "      <td>148</td>\n",
       "      <td>4</td>\n",
       "    </tr>\n",
       "    <tr>\n",
       "      <th>13</th>\n",
       "      <td>2004</td>\n",
       "      <td>The Good,the Bad and the Ugly</td>\n",
       "      <td>1966</td>\n",
       "      <td>190</td>\n",
       "      <td>5</td>\n",
       "    </tr>\n",
       "    <tr>\n",
       "      <th>108</th>\n",
       "      <td>2005</td>\n",
       "      <td>Pulp Fiction</td>\n",
       "      <td>1994</td>\n",
       "      <td>190</td>\n",
       "      <td>6</td>\n",
       "    </tr>\n",
       "    <tr>\n",
       "      <th>10</th>\n",
       "      <td>2006</td>\n",
       "      <td>Schindler's List</td>\n",
       "      <td>1993</td>\n",
       "      <td>190</td>\n",
       "      <td>7</td>\n",
       "    </tr>\n",
       "    <tr>\n",
       "      <th>64</th>\n",
       "      <td>2007</td>\n",
       "      <td>12 Angry Men</td>\n",
       "      <td>1957</td>\n",
       "      <td>96</td>\n",
       "      <td>8</td>\n",
       "    </tr>\n",
       "    <tr>\n",
       "      <th>58</th>\n",
       "      <td>2008</td>\n",
       "      <td>One Flew Over the Cuckoo's Nest</td>\n",
       "      <td>1975</td>\n",
       "      <td>133</td>\n",
       "      <td>9</td>\n",
       "    </tr>\n",
       "    <tr>\n",
       "      <th>3</th>\n",
       "      <td>2009</td>\n",
       "      <td>Star Wars : Episode V - The Empire Strikes Back</td>\n",
       "      <td>1980</td>\n",
       "      <td>190</td>\n",
       "      <td>10</td>\n",
       "    </tr>\n",
       "  </tbody>\n",
       "</table>\n",
       "</div>"
      ],
      "text/plain": [
       "       ID                                            TITLE  YEAR  RUNTIME  \\\n",
       "125  2000                         The Shawshank Redemption  1994      142   \n",
       "22   2001                                    The Godfather  1972      175   \n",
       "53   2002                            The Godfather Part II  1974      200   \n",
       "182  2003                                        Inception  2010      148   \n",
       "13   2004                    The Good,the Bad and the Ugly  1966      190   \n",
       "108  2005                                     Pulp Fiction  1994      190   \n",
       "10   2006                                 Schindler's List  1993      190   \n",
       "64   2007                                     12 Angry Men  1957       96   \n",
       "58   2008                  One Flew Over the Cuckoo's Nest  1975      133   \n",
       "3    2009  Star Wars : Episode V - The Empire Strikes Back  1980      190   \n",
       "\n",
       "     RANK  \n",
       "125     1  \n",
       "22      2  \n",
       "53      3  \n",
       "182     4  \n",
       "13      5  \n",
       "108     6  \n",
       "10      7  \n",
       "64      8  \n",
       "58      9  \n",
       "3      10  "
      ]
     },
     "execution_count": 123,
     "metadata": {},
     "output_type": "execute_result"
    }
   ],
   "source": [
    "sort_res = df.sort_values(by='RANK').head(10)\n",
    "sort_res"
   ]
  },
  {
   "cell_type": "code",
   "execution_count": 126,
   "id": "e9ff8277",
   "metadata": {},
   "outputs": [
    {
     "data": {
      "text/html": [
       "<div>\n",
       "<style scoped>\n",
       "    .dataframe tbody tr th:only-of-type {\n",
       "        vertical-align: middle;\n",
       "    }\n",
       "\n",
       "    .dataframe tbody tr th {\n",
       "        vertical-align: top;\n",
       "    }\n",
       "\n",
       "    .dataframe thead th {\n",
       "        text-align: right;\n",
       "    }\n",
       "</style>\n",
       "<table border=\"1\" class=\"dataframe\">\n",
       "  <thead>\n",
       "    <tr style=\"text-align: right;\">\n",
       "      <th></th>\n",
       "      <th>ID</th>\n",
       "      <th>TITLE</th>\n",
       "      <th>YEAR</th>\n",
       "      <th>RUNTIME</th>\n",
       "      <th>RANK</th>\n",
       "    </tr>\n",
       "  </thead>\n",
       "  <tbody>\n",
       "    <tr>\n",
       "      <th>62</th>\n",
       "      <td>2082</td>\n",
       "      <td>Slumdog Millionaire</td>\n",
       "      <td>2008</td>\n",
       "      <td>120</td>\n",
       "      <td>83</td>\n",
       "    </tr>\n",
       "    <tr>\n",
       "      <th>21</th>\n",
       "      <td>2118</td>\n",
       "      <td>The Wrestler</td>\n",
       "      <td>2008</td>\n",
       "      <td>109</td>\n",
       "      <td>119</td>\n",
       "    </tr>\n",
       "    <tr>\n",
       "      <th>207</th>\n",
       "      <td>2010</td>\n",
       "      <td>The Dark Knight</td>\n",
       "      <td>2008</td>\n",
       "      <td>152</td>\n",
       "      <td>11</td>\n",
       "    </tr>\n",
       "    <tr>\n",
       "      <th>132</th>\n",
       "      <td>2172</td>\n",
       "      <td>Let the Right One In</td>\n",
       "      <td>2008</td>\n",
       "      <td>115</td>\n",
       "      <td>173</td>\n",
       "    </tr>\n",
       "    <tr>\n",
       "      <th>7</th>\n",
       "      <td>2159</td>\n",
       "      <td>In Bruges</td>\n",
       "      <td>2008</td>\n",
       "      <td>107</td>\n",
       "      <td>160</td>\n",
       "    </tr>\n",
       "    <tr>\n",
       "      <th>49</th>\n",
       "      <td>2140</td>\n",
       "      <td>Ratatouille</td>\n",
       "      <td>2007</td>\n",
       "      <td>111</td>\n",
       "      <td>141</td>\n",
       "    </tr>\n",
       "    <tr>\n",
       "      <th>89</th>\n",
       "      <td>2124</td>\n",
       "      <td>The Bourne Ultimatum</td>\n",
       "      <td>2007</td>\n",
       "      <td>115</td>\n",
       "      <td>125</td>\n",
       "    </tr>\n",
       "    <tr>\n",
       "      <th>180</th>\n",
       "      <td>2166</td>\n",
       "      <td>The Diving Bell and the Butterfly</td>\n",
       "      <td>2007</td>\n",
       "      <td>112</td>\n",
       "      <td>167</td>\n",
       "    </tr>\n",
       "    <tr>\n",
       "      <th>44</th>\n",
       "      <td>2109</td>\n",
       "      <td>There Will Be Blood</td>\n",
       "      <td>2007</td>\n",
       "      <td>158</td>\n",
       "      <td>110</td>\n",
       "    </tr>\n",
       "    <tr>\n",
       "      <th>80</th>\n",
       "      <td>2113</td>\n",
       "      <td>Into the Wild</td>\n",
       "      <td>2007</td>\n",
       "      <td>148</td>\n",
       "      <td>114</td>\n",
       "    </tr>\n",
       "  </tbody>\n",
       "</table>\n",
       "</div>"
      ],
      "text/plain": [
       "       ID                              TITLE  YEAR  RUNTIME  RANK\n",
       "62   2082                Slumdog Millionaire  2008      120    83\n",
       "21   2118                       The Wrestler  2008      109   119\n",
       "207  2010                    The Dark Knight  2008      152    11\n",
       "132  2172               Let the Right One In  2008      115   173\n",
       "7    2159                          In Bruges  2008      107   160\n",
       "49   2140                        Ratatouille  2007      111   141\n",
       "89   2124               The Bourne Ultimatum  2007      115   125\n",
       "180  2166  The Diving Bell and the Butterfly  2007      112   167\n",
       "44   2109                There Will Be Blood  2007      158   110\n",
       "80   2113                      Into the Wild  2007      148   114"
      ]
     },
     "execution_count": 126,
     "metadata": {},
     "output_type": "execute_result"
    }
   ],
   "source": [
    "sort_res2 = df.sort_values(by='YEAR',ascending=False)\n",
    "sort_res2[10:20]\n"
   ]
  },
  {
   "cell_type": "markdown",
   "id": "8240e67b",
   "metadata": {},
   "source": [
    "**Aggrégats**"
   ]
  },
  {
   "cell_type": "code",
   "execution_count": 147,
   "id": "ef396e0a",
   "metadata": {},
   "outputs": [
    {
     "data": {
      "text/plain": [
       "YEAR\n",
       "1921    1\n",
       "1925    1\n",
       "1926    1\n",
       "1927    1\n",
       "1931    1\n",
       "       ..\n",
       "2006    6\n",
       "2007    6\n",
       "2008    7\n",
       "2009    5\n",
       "2010    3\n",
       "Name: YEAR, Length: 80, dtype: int64"
      ]
     },
     "execution_count": 147,
     "metadata": {},
     "output_type": "execute_result"
    }
   ],
   "source": [
    "res3 = df.groupby('YEAR')['YEAR'].count()\n",
    "res3"
   ]
  },
  {
   "cell_type": "code",
   "execution_count": 149,
   "id": "22b330a8",
   "metadata": {},
   "outputs": [
    {
     "data": {
      "text/plain": [
       "YEAR\n",
       "1921     54.000000\n",
       "1925    190.000000\n",
       "1926    190.000000\n",
       "1927    106.000000\n",
       "1931     99.000000\n",
       "           ...    \n",
       "2006    128.500000\n",
       "2007    127.666667\n",
       "2008    120.285714\n",
       "2009    142.200000\n",
       "2010    116.333333\n",
       "Name: RUNTIME, Length: 80, dtype: float64"
      ]
     },
     "execution_count": 149,
     "metadata": {},
     "output_type": "execute_result"
    }
   ],
   "source": [
    "res4 = df.groupby('YEAR')['RUNTIME'].mean()\n",
    "res4"
   ]
  },
  {
   "cell_type": "markdown",
   "id": "3b6523e8",
   "metadata": {},
   "source": [
    "<H2>Matplotlib</H2>"
   ]
  },
  {
   "cell_type": "code",
   "execution_count": 153,
   "id": "e32c03de",
   "metadata": {},
   "outputs": [
    {
     "data": {
      "text/html": [
       "<div>\n",
       "<style scoped>\n",
       "    .dataframe tbody tr th:only-of-type {\n",
       "        vertical-align: middle;\n",
       "    }\n",
       "\n",
       "    .dataframe tbody tr th {\n",
       "        vertical-align: top;\n",
       "    }\n",
       "\n",
       "    .dataframe thead th {\n",
       "        text-align: right;\n",
       "    }\n",
       "</style>\n",
       "<table border=\"1\" class=\"dataframe\">\n",
       "  <thead>\n",
       "    <tr style=\"text-align: right;\">\n",
       "      <th></th>\n",
       "      <th>ID</th>\n",
       "      <th>TITLE</th>\n",
       "      <th>YEAR</th>\n",
       "      <th>RUNTIME</th>\n",
       "      <th>RANK</th>\n",
       "    </tr>\n",
       "  </thead>\n",
       "  <tbody>\n",
       "    <tr>\n",
       "      <th>0</th>\n",
       "      <td>2065</td>\n",
       "      <td>The Treasure of the Sierra Madre</td>\n",
       "      <td>1948</td>\n",
       "      <td>126</td>\n",
       "      <td>66</td>\n",
       "    </tr>\n",
       "    <tr>\n",
       "      <th>1</th>\n",
       "      <td>2115</td>\n",
       "      <td>Million Dollar Baby</td>\n",
       "      <td>2004</td>\n",
       "      <td>132</td>\n",
       "      <td>116</td>\n",
       "    </tr>\n",
       "    <tr>\n",
       "      <th>2</th>\n",
       "      <td>2089</td>\n",
       "      <td>No Country for Old Men</td>\n",
       "      <td>2007</td>\n",
       "      <td>122</td>\n",
       "      <td>90</td>\n",
       "    </tr>\n",
       "    <tr>\n",
       "      <th>3</th>\n",
       "      <td>2009</td>\n",
       "      <td>Star Wars : Episode V - The Empire Strikes Back</td>\n",
       "      <td>1980</td>\n",
       "      <td>190</td>\n",
       "      <td>10</td>\n",
       "    </tr>\n",
       "    <tr>\n",
       "      <th>4</th>\n",
       "      <td>2070</td>\n",
       "      <td>Singin' in the Rain</td>\n",
       "      <td>1952</td>\n",
       "      <td>103</td>\n",
       "      <td>71</td>\n",
       "    </tr>\n",
       "    <tr>\n",
       "      <th>...</th>\n",
       "      <td>...</td>\n",
       "      <td>...</td>\n",
       "      <td>...</td>\n",
       "      <td>...</td>\n",
       "      <td>...</td>\n",
       "    </tr>\n",
       "    <tr>\n",
       "      <th>206</th>\n",
       "      <td>2143</td>\n",
       "      <td>The Grapes of Wrath</td>\n",
       "      <td>1940</td>\n",
       "      <td>190</td>\n",
       "      <td>144</td>\n",
       "    </tr>\n",
       "    <tr>\n",
       "      <th>207</th>\n",
       "      <td>2010</td>\n",
       "      <td>The Dark Knight</td>\n",
       "      <td>2008</td>\n",
       "      <td>152</td>\n",
       "      <td>11</td>\n",
       "    </tr>\n",
       "    <tr>\n",
       "      <th>208</th>\n",
       "      <td>2197</td>\n",
       "      <td>Anatomy of a Murder</td>\n",
       "      <td>1959</td>\n",
       "      <td>160</td>\n",
       "      <td>198</td>\n",
       "    </tr>\n",
       "    <tr>\n",
       "      <th>209</th>\n",
       "      <td>2164</td>\n",
       "      <td>Rosemary's Baby</td>\n",
       "      <td>1968</td>\n",
       "      <td>136</td>\n",
       "      <td>165</td>\n",
       "    </tr>\n",
       "    <tr>\n",
       "      <th>210</th>\n",
       "      <td>2091</td>\n",
       "      <td>For a Few Dollars More</td>\n",
       "      <td>1965</td>\n",
       "      <td>132</td>\n",
       "      <td>92</td>\n",
       "    </tr>\n",
       "  </tbody>\n",
       "</table>\n",
       "<p>211 rows × 5 columns</p>\n",
       "</div>"
      ],
      "text/plain": [
       "       ID                                            TITLE  YEAR  RUNTIME  \\\n",
       "0    2065                 The Treasure of the Sierra Madre  1948      126   \n",
       "1    2115                              Million Dollar Baby  2004      132   \n",
       "2    2089                           No Country for Old Men  2007      122   \n",
       "3    2009  Star Wars : Episode V - The Empire Strikes Back  1980      190   \n",
       "4    2070                              Singin' in the Rain  1952      103   \n",
       "..    ...                                              ...   ...      ...   \n",
       "206  2143                              The Grapes of Wrath  1940      190   \n",
       "207  2010                                  The Dark Knight  2008      152   \n",
       "208  2197                              Anatomy of a Murder  1959      160   \n",
       "209  2164                                  Rosemary's Baby  1968      136   \n",
       "210  2091                           For a Few Dollars More  1965      132   \n",
       "\n",
       "     RANK  \n",
       "0      66  \n",
       "1     116  \n",
       "2      90  \n",
       "3      10  \n",
       "4      71  \n",
       "..    ...  \n",
       "206   144  \n",
       "207    11  \n",
       "208   198  \n",
       "209   165  \n",
       "210    92  \n",
       "\n",
       "[211 rows x 5 columns]"
      ]
     },
     "execution_count": 153,
     "metadata": {},
     "output_type": "execute_result"
    }
   ],
   "source": [
    "copy_df  = df.copy()\n",
    "copy_df\n"
   ]
  },
  {
   "cell_type": "code",
   "execution_count": 177,
   "id": "da81e473",
   "metadata": {},
   "outputs": [],
   "source": [
    "copy_df['YEAR'] = copy_df['YEAR']//10*10"
   ]
  },
  {
   "cell_type": "code",
   "execution_count": 179,
   "id": "7176ab46",
   "metadata": {},
   "outputs": [
    {
     "data": {
      "text/plain": [
       "YEAR\n",
       "1920.0     4\n",
       "1930.0     9\n",
       "1940.0    16\n",
       "1950.0    27\n",
       "1960.0    23\n",
       "1970.0    21\n",
       "1980.0    22\n",
       "1990.0    35\n",
       "2000.0    51\n",
       "2010.0     3\n",
       "Name: ID, dtype: int64"
      ]
     },
     "execution_count": 179,
     "metadata": {},
     "output_type": "execute_result"
    }
   ],
   "source": [
    "res5 = copy_df.groupby('YEAR')['ID'].count()\n",
    "res5"
   ]
  },
  {
   "cell_type": "code",
   "execution_count": 180,
   "id": "9d1e94b7",
   "metadata": {},
   "outputs": [
    {
     "data": {
      "text/plain": [
       "[<matplotlib.lines.Line2D at 0x1287ffb50>]"
      ]
     },
     "execution_count": 180,
     "metadata": {},
     "output_type": "execute_result"
    },
    {
     "data": {
      "image/png": "[encoded data removed]",
      "text/plain": [
       "<Figure size 432x288 with 1 Axes>"
      ]
     },
     "metadata": {
      "needs_background": "light"
     },
     "output_type": "display_data"
    }
   ],
   "source": [
    "pyplot.plot(res5)"
   ]
  },
  {
   "cell_type": "code",
   "execution_count": 174,
   "id": "621396d7",
   "metadata": {},
   "outputs": [
    {
     "data": {
      "text/plain": [
       "YEAR\n",
       "1920.0    135.000000\n",
       "1930.0    118.888889\n",
       "1940.0    106.250000\n",
       "1950.0    112.222222\n",
       "1960.0    106.086957\n",
       "1970.0     95.238095\n",
       "1980.0     96.818182\n",
       "1990.0     78.571429\n",
       "2000.0    109.803922\n",
       "2010.0     53.333333\n",
       "Name: RANK, dtype: float64"
      ]
     },
     "execution_count": 174,
     "metadata": {},
     "output_type": "execute_result"
    }
   ],
   "source": [
    "copy_df['RANK'] = copy_df['RANK']//10*10\n",
    "res6 = copy_df.groupby('YEAR')['RANK'].mean()\n",
    "res6"
   ]
  },
  {
   "cell_type": "code",
   "execution_count": 175,
   "id": "e9e6ffbe",
   "metadata": {},
   "outputs": [
    {
     "data": {
      "text/plain": [
       "[<matplotlib.lines.Line2D at 0x127ed3550>]"
      ]
     },
     "execution_count": 175,
     "metadata": {},
     "output_type": "execute_result"
    },
    {
     "data": {
      "image/png": "[encoded data removed]",
      "text/plain": [
       "<Figure size 432x288 with 1 Axes>"
      ]
     },
     "metadata": {
      "needs_background": "light"
     },
     "output_type": "display_data"
    }
   ],
   "source": [
    "pyplot.plot(res6)"
   ]
  },
  {
   "cell_type": "code",
   "execution_count": 192,
   "id": "5da3f25f",
   "metadata": {},
   "outputs": [
    {
     "data": {
      "text/plain": [
       "<matplotlib.collections.PathCollection at 0x127f1ea90>"
      ]
     },
     "execution_count": 192,
     "metadata": {},
     "output_type": "execute_result"
    },
    {
     "data": {
      "image/png": "[encoded data removed]",
      "text/plain": [
       "<Figure size 432x288 with 1 Axes>"
      ]
     },
     "metadata": {
      "needs_background": "light"
     },
     "output_type": "display_data"
    }
   ],
   "source": [
    "pyplot.xlabel('RANK')\n",
    "pyplot.ylabel('RUNTIME')\n",
    "pyplot.scatter(df['RANK'],df['RUNTIME'],)"
   ]
  },
  {
   "cell_type": "markdown",
   "id": "3d1219e1",
   "metadata": {},
   "source": [
    " On constate qu'il y a beaucoup de film de la durée inférieur 200 et supérieur 180 mais il n'y a pas relation entre le rank et la durée."
   ]
  },
  {
   "cell_type": "code",
   "execution_count": null,
   "id": "42d88b20",
   "metadata": {},
   "outputs": [],
   "source": []
  }
 ],
 "metadata": {
  "kernelspec": {
   "display_name": "Python 3 (ipykernel)",
   "language": "python",
   "name": "python3"
  },
  "language_info": {
   "codemirror_mode": {
    "name": "ipython",
    "version": 3
   },
   "file_extension": ".py",
   "mimetype": "text/x-python",
   "name": "python",
   "nbconvert_exporter": "python",
   "pygments_lexer": "ipython3",
   "version": "3.8.2"
  }
 },
 "nbformat": 4,
 "nbformat_minor": 5
}
